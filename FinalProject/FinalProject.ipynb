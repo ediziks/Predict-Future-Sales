{
 "cells": [
  {
   "cell_type": "markdown",
   "metadata": {},
   "source": [
    "# Kaggle Competition Final Project\n",
    "\n",
    "# *1C Company* - Predict Future Sales\n",
    "\n",
    "**Motivation**\n",
    "\n",
    "*This challenge serves as final project for the \"How to win a data science competition\" Coursera course. In this competition you will work with a challenging time-series dataset consisting of daily sales data, kindly provided by one of the largest Russian software firms - 1C Company. We are asking you to **predict total sales for every product and store in the next month**. By solving this competition you will be able to apply and enhance your data science skills.*\n",
    "\n",
    "You are provided with daily historical sales data. The task is to forecast the total amount of products sold in every shop for the test set. Note that the list of shops and products slightly changes every month. Creating a robust model that can handle such situations is part of the challenge.\n",
    "\n",
    "Submissions are evaluated by **root mean squared error** (RMSE). True target values are clipped into [0,20] range. For each id in the test set, you must predict a total number of sales.\n",
    "\n",
    "Source: https://www.kaggle.com/c/competitive-data-science-final-project\n",
    "\n",
    "**Summary**\n",
    "\n",
    "    1. Getting a look at the data\n",
    "    2. Preprocessing raw data into features\n",
    "        2.1. Making sense of the test set ID values\n",
    "        2.2. Extracting categorical features from Russian item names\n",
    "        2.3. Remove duplicates\n",
    "        2.4. Text processed features with TF-IDF\n",
    "        2.5. Starting point for data engineering\n",
    "        2.6. Lagged based features\n",
    "        2.7. Trend based features\n",
    "        2.8. Feature matrix\n",
    "    3. Exploratory data analysis\n",
    "        3.1. Target variable\n",
    "        3.2. Multivariate heatmaps (numerical/categorical pairings)\n",
    "    4. Advanced feature engineering\n",
    "        4.1. Mean encoding on categorical features\n",
    "        4.2. Matrix factorization on text processed features   \n",
    "    5. Model training\n",
    "        5.1. Validation scheme\n",
    "        5.2. LightGBM Regressor\n",
    "        5.3. XGBoost Regressor\n",
    "        5.4. Linear Regression\n",
    "    6. Ensembling and test predictions\n",
    "        6.1. Ensembling: XGBoost + Linear Regression\n",
    "        6.2. Leaderboard test prediction\n",
    "\n",
    "**Guidelines**\n",
    "\n",
    "1. *Clarity*: The clear step-by-step instruction on how to produce the final submit file is provided. Code has comments where it is needed and meaningful function names\n",
    "2. *Feature preprocessing and generation with respect to models*: Several simple features are generated. For non-tree-based models preprocessing is used or the absence of it is explained\n",
    "3. *Feature extraction from text and images*: Features from text are extracted. Special preprocessings for text are utilized (TF-IDF, stemming, levenshtening...)\n",
    "4. *EDA*: Several interesting observations about data are discovered and explained. Target distribution is visualized, time trend is assessed\n",
    "5. *Validation*: Type of train/test split is identified and used for validation. Type of public/private split is identified\n",
    "6. *Data leakages*: Data is investigated for data leakages and investigation process is described. Found data leakages are utilized\n",
    "7. *Metrics optimization*: Correct metric is optimized\n",
    "8. *Advanced Features I (mean encodings)*: Mean-encoding is applied. Mean-encoding is set up correctly, i.e. KFold or expanding scheme are utilized correctly\n",
    "9. *Advanced Features II*: At least one feature from this topic is introduced\n",
    "10. *Hyperparameter tuning*: Parameters of models are roughly optimal\n",
    "11. *Ensembles*: Ensembling is utilized (linear combination counts). Validation with ensembling scheme is set up correctly, i.e. KFold or Holdout is utilized. Models from different classes are utilized (at least two from the following: KNN, linear models, RF, GBDT, NN)\n",
    "\n",
    "**Packages (notice: not all of them are used)**"
   ]
  },
  {
   "cell_type": "code",
   "execution_count": 1,
   "metadata": {},
   "outputs": [],
   "source": [
    "# Basic packages\n",
    "import pandas as pd\n",
    "pd.options.display.float_format = '{:20,.2f}'.format\n",
    "import numpy as np\n",
    "import matplotlib.pyplot as plt\n",
    "plt.style.use('ggplot')\n",
    "%matplotlib inline\n",
    "import seaborn as sns\n",
    "\n",
    "# Utilities\n",
    "import gc\n",
    "from itertools import product\n",
    "import warnings\n",
    "warnings.filterwarnings(\"ignore\")\n",
    "from math import ceil\n",
    "import copy\n",
    "import os\n",
    "from IPython.display import clear_output\n",
    "\n",
    "# Machine learning packages\n",
    "import nltk\n",
    "from sklearn.feature_extraction import text\n",
    "from sklearn.preprocessing import LabelEncoder\n",
    "from sklearn.model_selection import KFold, StratifiedKFold\n",
    "from sklearn.metrics import r2_score, mean_squared_error\n",
    "from sklearn.preprocessing import StandardScaler\n",
    "from sklearn.decomposition import PCA, TruncatedSVD, NMF\n",
    "#from sklearn.manifold import TSNE\n",
    "#from MulticoreTSNE import MulticoreTSNE as TSNE (not used)\n",
    "import lightgbm as lgb\n",
    "import xgboost as xgb\n",
    "#import catboost as cat\n",
    "from sklearn.linear_model import LinearRegression, Ridge, Lasso, Lars, ElasticNet\n",
    "#from bayes_opt import BayesianOptimization (not used)\n",
    "#import shap (not used)\n",
    "from sklearn.externals import joblib\n",
    "#import tensorflow as tf (not used)\n",
    "#os.environ['KERAS_BACKEND'] = 'tensorflow' (not used)\n",
    "#import keras (not used)"
   ]
  },
  {
   "cell_type": "markdown",
   "metadata": {},
   "source": [
    "# Part 1/6: Getting a look at the data\n",
    "\n",
    "Let's take a quick look at what type of data we are dealing with, by using pandas' functions `shape`, `unique()` and `head()`."
   ]
  },
  {
   "cell_type": "code",
   "execution_count": 2,
   "metadata": {},
   "outputs": [],
   "source": [
    "path = 'data/'\n",
    "\n",
    "# Training set. Daily historical data from January 2013 to October 2015.\n",
    "train = pd.read_csv(path+'sales_train.csv.gz')\n",
    "\n",
    "# Testing set. You need to forecast the sales for these shops and products for November 2015.\n",
    "test = pd.read_csv(path+'test.csv.gz').set_index('ID')\n",
    "\n",
    "# Additional information\n",
    "items = pd.read_csv(path+'items.csv')\n",
    "item_categories = pd.read_csv(path+'item_categories.csv')\n",
    "shops = pd.read_csv(path+'shops.csv')"
   ]
  },
  {
   "cell_type": "code",
   "execution_count": 3,
   "metadata": {},
   "outputs": [
    {
     "name": "stdout",
     "output_type": "stream",
     "text": [
      "(2935849, 7)\n",
      "date               1034\n",
      "date_block_num       34\n",
      "shop_id              60\n",
      "item_id           21807\n",
      "item_price        19993\n",
      "item_cnt_day        198\n",
      "sales             24775\n",
      "dtype: int64\n"
     ]
    },
    {
     "data": {
      "text/html": [
       "<div>\n",
       "<style scoped>\n",
       "    .dataframe tbody tr th:only-of-type {\n",
       "        vertical-align: middle;\n",
       "    }\n",
       "\n",
       "    .dataframe tbody tr th {\n",
       "        vertical-align: top;\n",
       "    }\n",
       "\n",
       "    .dataframe thead th {\n",
       "        text-align: right;\n",
       "    }\n",
       "</style>\n",
       "<table border=\"1\" class=\"dataframe\">\n",
       "  <thead>\n",
       "    <tr style=\"text-align: right;\">\n",
       "      <th></th>\n",
       "      <th>date</th>\n",
       "      <th>date_block_num</th>\n",
       "      <th>shop_id</th>\n",
       "      <th>item_id</th>\n",
       "      <th>item_price</th>\n",
       "      <th>item_cnt_day</th>\n",
       "      <th>sales</th>\n",
       "    </tr>\n",
       "  </thead>\n",
       "  <tbody>\n",
       "    <tr>\n",
       "      <th>0</th>\n",
       "      <td>02.01.2013</td>\n",
       "      <td>0</td>\n",
       "      <td>59</td>\n",
       "      <td>22154</td>\n",
       "      <td>999.00</td>\n",
       "      <td>1.00</td>\n",
       "      <td>999.00</td>\n",
       "    </tr>\n",
       "    <tr>\n",
       "      <th>1</th>\n",
       "      <td>03.01.2013</td>\n",
       "      <td>0</td>\n",
       "      <td>25</td>\n",
       "      <td>2552</td>\n",
       "      <td>899.00</td>\n",
       "      <td>1.00</td>\n",
       "      <td>899.00</td>\n",
       "    </tr>\n",
       "    <tr>\n",
       "      <th>2</th>\n",
       "      <td>05.01.2013</td>\n",
       "      <td>0</td>\n",
       "      <td>25</td>\n",
       "      <td>2552</td>\n",
       "      <td>899.00</td>\n",
       "      <td>-1.00</td>\n",
       "      <td>-899.00</td>\n",
       "    </tr>\n",
       "    <tr>\n",
       "      <th>3</th>\n",
       "      <td>06.01.2013</td>\n",
       "      <td>0</td>\n",
       "      <td>25</td>\n",
       "      <td>2554</td>\n",
       "      <td>1,709.05</td>\n",
       "      <td>1.00</td>\n",
       "      <td>1,709.05</td>\n",
       "    </tr>\n",
       "    <tr>\n",
       "      <th>4</th>\n",
       "      <td>15.01.2013</td>\n",
       "      <td>0</td>\n",
       "      <td>25</td>\n",
       "      <td>2555</td>\n",
       "      <td>1,099.00</td>\n",
       "      <td>1.00</td>\n",
       "      <td>1,099.00</td>\n",
       "    </tr>\n",
       "  </tbody>\n",
       "</table>\n",
       "</div>"
      ],
      "text/plain": [
       "         date  date_block_num  shop_id  item_id           item_price  \\\n",
       "0  02.01.2013               0       59    22154               999.00   \n",
       "1  03.01.2013               0       25     2552               899.00   \n",
       "2  05.01.2013               0       25     2552               899.00   \n",
       "3  06.01.2013               0       25     2554             1,709.05   \n",
       "4  15.01.2013               0       25     2555             1,099.00   \n",
       "\n",
       "          item_cnt_day                sales  \n",
       "0                 1.00               999.00  \n",
       "1                 1.00               899.00  \n",
       "2                -1.00              -899.00  \n",
       "3                 1.00             1,709.05  \n",
       "4                 1.00             1,099.00  "
      ]
     },
     "execution_count": 3,
     "metadata": {},
     "output_type": "execute_result"
    }
   ],
   "source": [
    "train['sales'] = train['item_cnt_day']*train['item_price']\n",
    "print(train.shape)\n",
    "print(train.nunique())\n",
    "train.head()"
   ]
  },
  {
   "cell_type": "code",
   "execution_count": 4,
   "metadata": {},
   "outputs": [
    {
     "name": "stdout",
     "output_type": "stream",
     "text": [
      "(214200, 2)\n",
      "shop_id      42\n",
      "item_id    5100\n",
      "dtype: int64\n"
     ]
    },
    {
     "data": {
      "text/html": [
       "<div>\n",
       "<style scoped>\n",
       "    .dataframe tbody tr th:only-of-type {\n",
       "        vertical-align: middle;\n",
       "    }\n",
       "\n",
       "    .dataframe tbody tr th {\n",
       "        vertical-align: top;\n",
       "    }\n",
       "\n",
       "    .dataframe thead th {\n",
       "        text-align: right;\n",
       "    }\n",
       "</style>\n",
       "<table border=\"1\" class=\"dataframe\">\n",
       "  <thead>\n",
       "    <tr style=\"text-align: right;\">\n",
       "      <th></th>\n",
       "      <th>shop_id</th>\n",
       "      <th>item_id</th>\n",
       "    </tr>\n",
       "    <tr>\n",
       "      <th>ID</th>\n",
       "      <th></th>\n",
       "      <th></th>\n",
       "    </tr>\n",
       "  </thead>\n",
       "  <tbody>\n",
       "    <tr>\n",
       "      <th>0</th>\n",
       "      <td>5</td>\n",
       "      <td>5037</td>\n",
       "    </tr>\n",
       "    <tr>\n",
       "      <th>1</th>\n",
       "      <td>5</td>\n",
       "      <td>5320</td>\n",
       "    </tr>\n",
       "    <tr>\n",
       "      <th>2</th>\n",
       "      <td>5</td>\n",
       "      <td>5233</td>\n",
       "    </tr>\n",
       "    <tr>\n",
       "      <th>3</th>\n",
       "      <td>5</td>\n",
       "      <td>5232</td>\n",
       "    </tr>\n",
       "    <tr>\n",
       "      <th>4</th>\n",
       "      <td>5</td>\n",
       "      <td>5268</td>\n",
       "    </tr>\n",
       "  </tbody>\n",
       "</table>\n",
       "</div>"
      ],
      "text/plain": [
       "    shop_id  item_id\n",
       "ID                  \n",
       "0         5     5037\n",
       "1         5     5320\n",
       "2         5     5233\n",
       "3         5     5232\n",
       "4         5     5268"
      ]
     },
     "execution_count": 4,
     "metadata": {},
     "output_type": "execute_result"
    }
   ],
   "source": [
    "print(test.shape)\n",
    "print(test.nunique())\n",
    "test.head()"
   ]
  },
  {
   "cell_type": "code",
   "execution_count": 5,
   "metadata": {},
   "outputs": [
    {
     "name": "stdout",
     "output_type": "stream",
     "text": [
      "(22170, 3)\n",
      "item_name           22170\n",
      "item_id             22170\n",
      "item_category_id       84\n",
      "dtype: int64\n"
     ]
    },
    {
     "data": {
      "text/html": [
       "<div>\n",
       "<style scoped>\n",
       "    .dataframe tbody tr th:only-of-type {\n",
       "        vertical-align: middle;\n",
       "    }\n",
       "\n",
       "    .dataframe tbody tr th {\n",
       "        vertical-align: top;\n",
       "    }\n",
       "\n",
       "    .dataframe thead th {\n",
       "        text-align: right;\n",
       "    }\n",
       "</style>\n",
       "<table border=\"1\" class=\"dataframe\">\n",
       "  <thead>\n",
       "    <tr style=\"text-align: right;\">\n",
       "      <th></th>\n",
       "      <th>item_name</th>\n",
       "      <th>item_id</th>\n",
       "      <th>item_category_id</th>\n",
       "    </tr>\n",
       "  </thead>\n",
       "  <tbody>\n",
       "    <tr>\n",
       "      <th>0</th>\n",
       "      <td>! ВО ВЛАСТИ НАВАЖДЕНИЯ (ПЛАСТ.)         D</td>\n",
       "      <td>0</td>\n",
       "      <td>40</td>\n",
       "    </tr>\n",
       "    <tr>\n",
       "      <th>1</th>\n",
       "      <td>!ABBYY FineReader 12 Professional Edition Full...</td>\n",
       "      <td>1</td>\n",
       "      <td>76</td>\n",
       "    </tr>\n",
       "    <tr>\n",
       "      <th>2</th>\n",
       "      <td>***В ЛУЧАХ СЛАВЫ   (UNV)                    D</td>\n",
       "      <td>2</td>\n",
       "      <td>40</td>\n",
       "    </tr>\n",
       "    <tr>\n",
       "      <th>3</th>\n",
       "      <td>***ГОЛУБАЯ ВОЛНА  (Univ)                      D</td>\n",
       "      <td>3</td>\n",
       "      <td>40</td>\n",
       "    </tr>\n",
       "    <tr>\n",
       "      <th>4</th>\n",
       "      <td>***КОРОБКА (СТЕКЛО)                       D</td>\n",
       "      <td>4</td>\n",
       "      <td>40</td>\n",
       "    </tr>\n",
       "  </tbody>\n",
       "</table>\n",
       "</div>"
      ],
      "text/plain": [
       "                                           item_name  item_id  \\\n",
       "0          ! ВО ВЛАСТИ НАВАЖДЕНИЯ (ПЛАСТ.)         D        0   \n",
       "1  !ABBYY FineReader 12 Professional Edition Full...        1   \n",
       "2      ***В ЛУЧАХ СЛАВЫ   (UNV)                    D        2   \n",
       "3    ***ГОЛУБАЯ ВОЛНА  (Univ)                      D        3   \n",
       "4        ***КОРОБКА (СТЕКЛО)                       D        4   \n",
       "\n",
       "   item_category_id  \n",
       "0                40  \n",
       "1                76  \n",
       "2                40  \n",
       "3                40  \n",
       "4                40  "
      ]
     },
     "execution_count": 5,
     "metadata": {},
     "output_type": "execute_result"
    }
   ],
   "source": [
    "print(items.shape)\n",
    "print(items.nunique())\n",
    "items.head()"
   ]
  },
  {
   "cell_type": "code",
   "execution_count": 6,
   "metadata": {},
   "outputs": [
    {
     "name": "stdout",
     "output_type": "stream",
     "text": [
      "(84, 2)\n",
      "item_category_name    84\n",
      "item_category_id      84\n",
      "dtype: int64\n"
     ]
    },
    {
     "data": {
      "text/html": [
       "<div>\n",
       "<style scoped>\n",
       "    .dataframe tbody tr th:only-of-type {\n",
       "        vertical-align: middle;\n",
       "    }\n",
       "\n",
       "    .dataframe tbody tr th {\n",
       "        vertical-align: top;\n",
       "    }\n",
       "\n",
       "    .dataframe thead th {\n",
       "        text-align: right;\n",
       "    }\n",
       "</style>\n",
       "<table border=\"1\" class=\"dataframe\">\n",
       "  <thead>\n",
       "    <tr style=\"text-align: right;\">\n",
       "      <th></th>\n",
       "      <th>item_category_name</th>\n",
       "      <th>item_category_id</th>\n",
       "    </tr>\n",
       "  </thead>\n",
       "  <tbody>\n",
       "    <tr>\n",
       "      <th>0</th>\n",
       "      <td>PC - Гарнитуры/Наушники</td>\n",
       "      <td>0</td>\n",
       "    </tr>\n",
       "    <tr>\n",
       "      <th>1</th>\n",
       "      <td>Аксессуары - PS2</td>\n",
       "      <td>1</td>\n",
       "    </tr>\n",
       "    <tr>\n",
       "      <th>2</th>\n",
       "      <td>Аксессуары - PS3</td>\n",
       "      <td>2</td>\n",
       "    </tr>\n",
       "    <tr>\n",
       "      <th>3</th>\n",
       "      <td>Аксессуары - PS4</td>\n",
       "      <td>3</td>\n",
       "    </tr>\n",
       "    <tr>\n",
       "      <th>4</th>\n",
       "      <td>Аксессуары - PSP</td>\n",
       "      <td>4</td>\n",
       "    </tr>\n",
       "  </tbody>\n",
       "</table>\n",
       "</div>"
      ],
      "text/plain": [
       "        item_category_name  item_category_id\n",
       "0  PC - Гарнитуры/Наушники                 0\n",
       "1         Аксессуары - PS2                 1\n",
       "2         Аксессуары - PS3                 2\n",
       "3         Аксессуары - PS4                 3\n",
       "4         Аксессуары - PSP                 4"
      ]
     },
     "execution_count": 6,
     "metadata": {},
     "output_type": "execute_result"
    }
   ],
   "source": [
    "print(item_categories.shape)\n",
    "print(item_categories.nunique())\n",
    "item_categories.head()"
   ]
  },
  {
   "cell_type": "markdown",
   "metadata": {},
   "source": [
    "# Part 2/6: Preprocessing raw data into features\n",
    "\n",
    "## 2.1. Making sense of the testing ID values\n",
    "\n",
    "As the data is raw, we need to preprocess it in order to extract features for monthly sales prediction. We notice in the testing set that each ID represents an item sold (`item_id`) at a particular shop (`shop_id`). Let's check if each ID represents a unique **item_id - shop_id** pair."
   ]
  },
  {
   "cell_type": "code",
   "execution_count": 7,
   "metadata": {},
   "outputs": [
    {
     "name": "stdout",
     "output_type": "stream",
     "text": [
      "True\n"
     ]
    }
   ],
   "source": [
    "test1 = copy.copy(test)\n",
    "test1['shop_id'] = test1['shop_id'].map(str)\n",
    "test1['item_id'] = test1['item_id'].map(str)\n",
    "test1['key'] = test1[['shop_id', 'item_id']].apply(lambda x: '-'.join(x), axis=1)\n",
    "print(test1['key'].nunique() == len(test1))\n",
    "del test1; gc.collect();"
   ]
  },
  {
   "cell_type": "markdown",
   "metadata": {},
   "source": [
    "This is indeed the case."
   ]
  },
  {
   "cell_type": "markdown",
   "metadata": {},
   "source": [
    "## 2.2. Extracting categorical features from Russian item names\n",
    "\n",
    "We add more categorical features for items in order to enrich our training data:"
   ]
  },
  {
   "cell_type": "code",
   "execution_count": 8,
   "metadata": {},
   "outputs": [],
   "source": [
    "shops.loc[shops.shop_name == 'Сергиев Посад ТЦ \"7Я\"', 'shop_name'] = 'СергиевПосад ТЦ \"7Я\"'\n",
    "shops['city'] = shops['shop_name'].str.split(' ').map(lambda x: x[0])\n",
    "shops.loc[shops.city == '!Якутск', 'city'] = 'Якутск'\n",
    "shops['city_code'] = LabelEncoder().fit_transform(shops['city'])\n",
    "shops = shops[['shop_id','city_code']]\n",
    "\n",
    "item_categories['split'] = item_categories['item_category_name'].str.split('-')\n",
    "item_categories['type'] = item_categories['split'].map(lambda x: x[0].strip())\n",
    "item_categories['type_code'] = LabelEncoder().fit_transform(item_categories['type'])\n",
    "item_categories['subtype'] = item_categories['split'].map(lambda x: x[1].strip() if len(x) > 1 else x[0].strip())\n",
    "item_categories['subtype_code'] = LabelEncoder().fit_transform(item_categories['subtype'])\n",
    "item_categories = item_categories[['item_category_id','type_code', 'subtype_code']]\n",
    "\n",
    "items.drop(['item_name'], axis=1, inplace=True)"
   ]
  },
  {
   "cell_type": "code",
   "execution_count": 9,
   "metadata": {},
   "outputs": [
    {
     "data": {
      "text/html": [
       "<div>\n",
       "<style scoped>\n",
       "    .dataframe tbody tr th:only-of-type {\n",
       "        vertical-align: middle;\n",
       "    }\n",
       "\n",
       "    .dataframe tbody tr th {\n",
       "        vertical-align: top;\n",
       "    }\n",
       "\n",
       "    .dataframe thead th {\n",
       "        text-align: right;\n",
       "    }\n",
       "</style>\n",
       "<table border=\"1\" class=\"dataframe\">\n",
       "  <thead>\n",
       "    <tr style=\"text-align: right;\">\n",
       "      <th></th>\n",
       "      <th>item_category_id</th>\n",
       "      <th>type_code</th>\n",
       "      <th>subtype_code</th>\n",
       "    </tr>\n",
       "  </thead>\n",
       "  <tbody>\n",
       "    <tr>\n",
       "      <th>0</th>\n",
       "      <td>0</td>\n",
       "      <td>0</td>\n",
       "      <td>29</td>\n",
       "    </tr>\n",
       "    <tr>\n",
       "      <th>1</th>\n",
       "      <td>1</td>\n",
       "      <td>1</td>\n",
       "      <td>9</td>\n",
       "    </tr>\n",
       "    <tr>\n",
       "      <th>2</th>\n",
       "      <td>2</td>\n",
       "      <td>1</td>\n",
       "      <td>10</td>\n",
       "    </tr>\n",
       "    <tr>\n",
       "      <th>3</th>\n",
       "      <td>3</td>\n",
       "      <td>1</td>\n",
       "      <td>11</td>\n",
       "    </tr>\n",
       "    <tr>\n",
       "      <th>4</th>\n",
       "      <td>4</td>\n",
       "      <td>1</td>\n",
       "      <td>13</td>\n",
       "    </tr>\n",
       "  </tbody>\n",
       "</table>\n",
       "</div>"
      ],
      "text/plain": [
       "   item_category_id  type_code  subtype_code\n",
       "0                 0          0            29\n",
       "1                 1          1             9\n",
       "2                 2          1            10\n",
       "3                 3          1            11\n",
       "4                 4          1            13"
      ]
     },
     "execution_count": 9,
     "metadata": {},
     "output_type": "execute_result"
    }
   ],
   "source": [
    "item_categories.head()"
   ]
  },
  {
   "cell_type": "code",
   "execution_count": 10,
   "metadata": {},
   "outputs": [
    {
     "data": {
      "text/html": [
       "<div>\n",
       "<style scoped>\n",
       "    .dataframe tbody tr th:only-of-type {\n",
       "        vertical-align: middle;\n",
       "    }\n",
       "\n",
       "    .dataframe tbody tr th {\n",
       "        vertical-align: top;\n",
       "    }\n",
       "\n",
       "    .dataframe thead th {\n",
       "        text-align: right;\n",
       "    }\n",
       "</style>\n",
       "<table border=\"1\" class=\"dataframe\">\n",
       "  <thead>\n",
       "    <tr style=\"text-align: right;\">\n",
       "      <th></th>\n",
       "      <th>item_id</th>\n",
       "      <th>item_category_id</th>\n",
       "    </tr>\n",
       "  </thead>\n",
       "  <tbody>\n",
       "    <tr>\n",
       "      <th>0</th>\n",
       "      <td>0</td>\n",
       "      <td>40</td>\n",
       "    </tr>\n",
       "    <tr>\n",
       "      <th>1</th>\n",
       "      <td>1</td>\n",
       "      <td>76</td>\n",
       "    </tr>\n",
       "    <tr>\n",
       "      <th>2</th>\n",
       "      <td>2</td>\n",
       "      <td>40</td>\n",
       "    </tr>\n",
       "    <tr>\n",
       "      <th>3</th>\n",
       "      <td>3</td>\n",
       "      <td>40</td>\n",
       "    </tr>\n",
       "    <tr>\n",
       "      <th>4</th>\n",
       "      <td>4</td>\n",
       "      <td>40</td>\n",
       "    </tr>\n",
       "  </tbody>\n",
       "</table>\n",
       "</div>"
      ],
      "text/plain": [
       "   item_id  item_category_id\n",
       "0        0                40\n",
       "1        1                76\n",
       "2        2                40\n",
       "3        3                40\n",
       "4        4                40"
      ]
     },
     "execution_count": 10,
     "metadata": {},
     "output_type": "execute_result"
    }
   ],
   "source": [
    "items.head()"
   ]
  },
  {
   "cell_type": "code",
   "execution_count": 11,
   "metadata": {},
   "outputs": [
    {
     "data": {
      "text/html": [
       "<div>\n",
       "<style scoped>\n",
       "    .dataframe tbody tr th:only-of-type {\n",
       "        vertical-align: middle;\n",
       "    }\n",
       "\n",
       "    .dataframe tbody tr th {\n",
       "        vertical-align: top;\n",
       "    }\n",
       "\n",
       "    .dataframe thead th {\n",
       "        text-align: right;\n",
       "    }\n",
       "</style>\n",
       "<table border=\"1\" class=\"dataframe\">\n",
       "  <thead>\n",
       "    <tr style=\"text-align: right;\">\n",
       "      <th></th>\n",
       "      <th>shop_id</th>\n",
       "      <th>city_code</th>\n",
       "    </tr>\n",
       "  </thead>\n",
       "  <tbody>\n",
       "    <tr>\n",
       "      <th>0</th>\n",
       "      <td>0</td>\n",
       "      <td>29</td>\n",
       "    </tr>\n",
       "    <tr>\n",
       "      <th>1</th>\n",
       "      <td>1</td>\n",
       "      <td>29</td>\n",
       "    </tr>\n",
       "    <tr>\n",
       "      <th>2</th>\n",
       "      <td>2</td>\n",
       "      <td>0</td>\n",
       "    </tr>\n",
       "    <tr>\n",
       "      <th>3</th>\n",
       "      <td>3</td>\n",
       "      <td>1</td>\n",
       "    </tr>\n",
       "    <tr>\n",
       "      <th>4</th>\n",
       "      <td>4</td>\n",
       "      <td>2</td>\n",
       "    </tr>\n",
       "  </tbody>\n",
       "</table>\n",
       "</div>"
      ],
      "text/plain": [
       "   shop_id  city_code\n",
       "0        0         29\n",
       "1        1         29\n",
       "2        2          0\n",
       "3        3          1\n",
       "4        4          2"
      ]
     },
     "execution_count": 11,
     "metadata": {},
     "output_type": "execute_result"
    }
   ],
   "source": [
    "shops.head()"
   ]
  },
  {
   "cell_type": "markdown",
   "metadata": {},
   "source": [
    "## 2.3. Creating text processed features with TF-IDF"
   ]
  },
  {
   "cell_type": "code",
   "execution_count": 12,
   "metadata": {},
   "outputs": [],
   "source": [
    "items1 = pd.read_csv(path+'items.csv')\n",
    "item_categories1 = pd.read_csv(path+'item_categories.csv')\n",
    "shops1 = pd.read_csv(path+'shops.csv')"
   ]
  },
  {
   "cell_type": "code",
   "execution_count": 13,
   "metadata": {},
   "outputs": [
    {
     "data": {
      "text/html": [
       "<div>\n",
       "<style scoped>\n",
       "    .dataframe tbody tr th:only-of-type {\n",
       "        vertical-align: middle;\n",
       "    }\n",
       "\n",
       "    .dataframe tbody tr th {\n",
       "        vertical-align: top;\n",
       "    }\n",
       "\n",
       "    .dataframe thead th {\n",
       "        text-align: right;\n",
       "    }\n",
       "</style>\n",
       "<table border=\"1\" class=\"dataframe\">\n",
       "  <thead>\n",
       "    <tr style=\"text-align: right;\">\n",
       "      <th></th>\n",
       "      <th>item_name</th>\n",
       "      <th>item_id</th>\n",
       "      <th>item_category_id</th>\n",
       "      <th>item_name_len</th>\n",
       "      <th>item_name_wc</th>\n",
       "      <th>item_name_tfidf_0</th>\n",
       "      <th>item_name_tfidf_1</th>\n",
       "      <th>item_name_tfidf_2</th>\n",
       "      <th>item_name_tfidf_3</th>\n",
       "      <th>item_name_tfidf_4</th>\n",
       "      <th>...</th>\n",
       "      <th>item_name_tfidf_15</th>\n",
       "      <th>item_name_tfidf_16</th>\n",
       "      <th>item_name_tfidf_17</th>\n",
       "      <th>item_name_tfidf_18</th>\n",
       "      <th>item_name_tfidf_19</th>\n",
       "      <th>item_name_tfidf_20</th>\n",
       "      <th>item_name_tfidf_21</th>\n",
       "      <th>item_name_tfidf_22</th>\n",
       "      <th>item_name_tfidf_23</th>\n",
       "      <th>item_name_tfidf_24</th>\n",
       "    </tr>\n",
       "  </thead>\n",
       "  <tbody>\n",
       "    <tr>\n",
       "      <th>0</th>\n",
       "      <td>! ВО ВЛАСТИ НАВАЖДЕНИЯ (ПЛАСТ.)         D</td>\n",
       "      <td>0</td>\n",
       "      <td>40</td>\n",
       "      <td>64</td>\n",
       "      <td>14</td>\n",
       "      <td>0.00</td>\n",
       "      <td>0.00</td>\n",
       "      <td>0.00</td>\n",
       "      <td>0.00</td>\n",
       "      <td>0.00</td>\n",
       "      <td>...</td>\n",
       "      <td>0.00</td>\n",
       "      <td>0.00</td>\n",
       "      <td>0.00</td>\n",
       "      <td>0.00</td>\n",
       "      <td>0.00</td>\n",
       "      <td>0.00</td>\n",
       "      <td>0.00</td>\n",
       "      <td>0.00</td>\n",
       "      <td>0.00</td>\n",
       "      <td>0.00</td>\n",
       "    </tr>\n",
       "    <tr>\n",
       "      <th>1</th>\n",
       "      <td>!ABBYY FineReader 12 Professional Edition Full...</td>\n",
       "      <td>1</td>\n",
       "      <td>76</td>\n",
       "      <td>82</td>\n",
       "      <td>9</td>\n",
       "      <td>0.00</td>\n",
       "      <td>0.00</td>\n",
       "      <td>0.00</td>\n",
       "      <td>0.00</td>\n",
       "      <td>0.00</td>\n",
       "      <td>...</td>\n",
       "      <td>0.00</td>\n",
       "      <td>0.40</td>\n",
       "      <td>0.00</td>\n",
       "      <td>0.00</td>\n",
       "      <td>0.00</td>\n",
       "      <td>0.00</td>\n",
       "      <td>0.00</td>\n",
       "      <td>0.00</td>\n",
       "      <td>0.00</td>\n",
       "      <td>0.48</td>\n",
       "    </tr>\n",
       "    <tr>\n",
       "      <th>2</th>\n",
       "      <td>***В ЛУЧАХ СЛАВЫ   (UNV)                    D</td>\n",
       "      <td>2</td>\n",
       "      <td>40</td>\n",
       "      <td>56</td>\n",
       "      <td>26</td>\n",
       "      <td>0.00</td>\n",
       "      <td>0.00</td>\n",
       "      <td>0.00</td>\n",
       "      <td>0.00</td>\n",
       "      <td>0.00</td>\n",
       "      <td>...</td>\n",
       "      <td>0.00</td>\n",
       "      <td>0.00</td>\n",
       "      <td>0.00</td>\n",
       "      <td>0.00</td>\n",
       "      <td>0.00</td>\n",
       "      <td>0.00</td>\n",
       "      <td>0.00</td>\n",
       "      <td>0.00</td>\n",
       "      <td>0.00</td>\n",
       "      <td>0.00</td>\n",
       "    </tr>\n",
       "    <tr>\n",
       "      <th>3</th>\n",
       "      <td>***ГОЛУБАЯ ВОЛНА  (Univ)                      D</td>\n",
       "      <td>3</td>\n",
       "      <td>40</td>\n",
       "      <td>59</td>\n",
       "      <td>26</td>\n",
       "      <td>0.00</td>\n",
       "      <td>0.00</td>\n",
       "      <td>0.00</td>\n",
       "      <td>0.00</td>\n",
       "      <td>0.00</td>\n",
       "      <td>...</td>\n",
       "      <td>0.00</td>\n",
       "      <td>0.00</td>\n",
       "      <td>0.00</td>\n",
       "      <td>0.00</td>\n",
       "      <td>0.00</td>\n",
       "      <td>0.00</td>\n",
       "      <td>0.00</td>\n",
       "      <td>0.00</td>\n",
       "      <td>0.00</td>\n",
       "      <td>0.00</td>\n",
       "    </tr>\n",
       "    <tr>\n",
       "      <th>4</th>\n",
       "      <td>***КОРОБКА (СТЕКЛО)                       D</td>\n",
       "      <td>4</td>\n",
       "      <td>40</td>\n",
       "      <td>56</td>\n",
       "      <td>25</td>\n",
       "      <td>0.00</td>\n",
       "      <td>0.00</td>\n",
       "      <td>0.00</td>\n",
       "      <td>0.00</td>\n",
       "      <td>0.00</td>\n",
       "      <td>...</td>\n",
       "      <td>0.00</td>\n",
       "      <td>0.00</td>\n",
       "      <td>0.00</td>\n",
       "      <td>0.00</td>\n",
       "      <td>0.00</td>\n",
       "      <td>0.00</td>\n",
       "      <td>0.00</td>\n",
       "      <td>0.00</td>\n",
       "      <td>0.00</td>\n",
       "      <td>0.00</td>\n",
       "    </tr>\n",
       "  </tbody>\n",
       "</table>\n",
       "<p>5 rows × 30 columns</p>\n",
       "</div>"
      ],
      "text/plain": [
       "                                           item_name  item_id  \\\n",
       "0          ! ВО ВЛАСТИ НАВАЖДЕНИЯ (ПЛАСТ.)         D        0   \n",
       "1  !ABBYY FineReader 12 Professional Edition Full...        1   \n",
       "2      ***В ЛУЧАХ СЛАВЫ   (UNV)                    D        2   \n",
       "3    ***ГОЛУБАЯ ВОЛНА  (Univ)                      D        3   \n",
       "4        ***КОРОБКА (СТЕКЛО)                       D        4   \n",
       "\n",
       "   item_category_id  item_name_len  item_name_wc    item_name_tfidf_0  \\\n",
       "0                40             64            14                 0.00   \n",
       "1                76             82             9                 0.00   \n",
       "2                40             56            26                 0.00   \n",
       "3                40             59            26                 0.00   \n",
       "4                40             56            25                 0.00   \n",
       "\n",
       "     item_name_tfidf_1    item_name_tfidf_2    item_name_tfidf_3  \\\n",
       "0                 0.00                 0.00                 0.00   \n",
       "1                 0.00                 0.00                 0.00   \n",
       "2                 0.00                 0.00                 0.00   \n",
       "3                 0.00                 0.00                 0.00   \n",
       "4                 0.00                 0.00                 0.00   \n",
       "\n",
       "     item_name_tfidf_4  ...   item_name_tfidf_15   item_name_tfidf_16  \\\n",
       "0                 0.00  ...                 0.00                 0.00   \n",
       "1                 0.00  ...                 0.00                 0.40   \n",
       "2                 0.00  ...                 0.00                 0.00   \n",
       "3                 0.00  ...                 0.00                 0.00   \n",
       "4                 0.00  ...                 0.00                 0.00   \n",
       "\n",
       "    item_name_tfidf_17   item_name_tfidf_18   item_name_tfidf_19  \\\n",
       "0                 0.00                 0.00                 0.00   \n",
       "1                 0.00                 0.00                 0.00   \n",
       "2                 0.00                 0.00                 0.00   \n",
       "3                 0.00                 0.00                 0.00   \n",
       "4                 0.00                 0.00                 0.00   \n",
       "\n",
       "    item_name_tfidf_20   item_name_tfidf_21   item_name_tfidf_22  \\\n",
       "0                 0.00                 0.00                 0.00   \n",
       "1                 0.00                 0.00                 0.00   \n",
       "2                 0.00                 0.00                 0.00   \n",
       "3                 0.00                 0.00                 0.00   \n",
       "4                 0.00                 0.00                 0.00   \n",
       "\n",
       "    item_name_tfidf_23   item_name_tfidf_24  \n",
       "0                 0.00                 0.00  \n",
       "1                 0.00                 0.48  \n",
       "2                 0.00                 0.00  \n",
       "3                 0.00                 0.00  \n",
       "4                 0.00                 0.00  \n",
       "\n",
       "[5 rows x 30 columns]"
      ]
     },
     "execution_count": 13,
     "metadata": {},
     "output_type": "execute_result"
    }
   ],
   "source": [
    "# For items\n",
    "nb_features=25\n",
    "tfidf = text.TfidfVectorizer(max_features=nb_features)\n",
    "items1['item_name_len'] = items1['item_name'].map(len)  # Name lenth\n",
    "items1['item_name_wc'] = items1['item_name'].map(lambda x: len(str(x).split(' ')))  # Word Count\n",
    "txtFeatures = pd.DataFrame(tfidf.fit_transform(items1['item_name']).toarray())\n",
    "cols = txtFeatures.columns\n",
    "for i in range(nb_features):\n",
    "    items1['item_name_tfidf_' + str(i)] = txtFeatures[cols[i]]\n",
    "items1.head()"
   ]
  },
  {
   "cell_type": "code",
   "execution_count": 14,
   "metadata": {},
   "outputs": [
    {
     "data": {
      "text/html": [
       "<div>\n",
       "<style scoped>\n",
       "    .dataframe tbody tr th:only-of-type {\n",
       "        vertical-align: middle;\n",
       "    }\n",
       "\n",
       "    .dataframe tbody tr th {\n",
       "        vertical-align: top;\n",
       "    }\n",
       "\n",
       "    .dataframe thead th {\n",
       "        text-align: right;\n",
       "    }\n",
       "</style>\n",
       "<table border=\"1\" class=\"dataframe\">\n",
       "  <thead>\n",
       "    <tr style=\"text-align: right;\">\n",
       "      <th></th>\n",
       "      <th>shop_name</th>\n",
       "      <th>shop_id</th>\n",
       "      <th>shop_name_len</th>\n",
       "      <th>shop_name_wc</th>\n",
       "      <th>shop_name_tfidf_0</th>\n",
       "      <th>shop_name_tfidf_1</th>\n",
       "      <th>shop_name_tfidf_2</th>\n",
       "      <th>shop_name_tfidf_3</th>\n",
       "      <th>shop_name_tfidf_4</th>\n",
       "      <th>shop_name_tfidf_5</th>\n",
       "      <th>...</th>\n",
       "      <th>shop_name_tfidf_15</th>\n",
       "      <th>shop_name_tfidf_16</th>\n",
       "      <th>shop_name_tfidf_17</th>\n",
       "      <th>shop_name_tfidf_18</th>\n",
       "      <th>shop_name_tfidf_19</th>\n",
       "      <th>shop_name_tfidf_20</th>\n",
       "      <th>shop_name_tfidf_21</th>\n",
       "      <th>shop_name_tfidf_22</th>\n",
       "      <th>shop_name_tfidf_23</th>\n",
       "      <th>shop_name_tfidf_24</th>\n",
       "    </tr>\n",
       "  </thead>\n",
       "  <tbody>\n",
       "    <tr>\n",
       "      <th>0</th>\n",
       "      <td>!Якутск Орджоникидзе, 56 фран</td>\n",
       "      <td>0</td>\n",
       "      <td>51</td>\n",
       "      <td>4</td>\n",
       "      <td>0.00</td>\n",
       "      <td>0.00</td>\n",
       "      <td>0.00</td>\n",
       "      <td>0.00</td>\n",
       "      <td>0.00</td>\n",
       "      <td>0.00</td>\n",
       "      <td>...</td>\n",
       "      <td>0.00</td>\n",
       "      <td>0.00</td>\n",
       "      <td>0.00</td>\n",
       "      <td>0.00</td>\n",
       "      <td>0.00</td>\n",
       "      <td>0.00</td>\n",
       "      <td>0.00</td>\n",
       "      <td>0.00</td>\n",
       "      <td>0.00</td>\n",
       "      <td>1.00</td>\n",
       "    </tr>\n",
       "    <tr>\n",
       "      <th>1</th>\n",
       "      <td>!Якутск ТЦ \"Центральный\" фран</td>\n",
       "      <td>1</td>\n",
       "      <td>52</td>\n",
       "      <td>4</td>\n",
       "      <td>0.00</td>\n",
       "      <td>0.00</td>\n",
       "      <td>0.00</td>\n",
       "      <td>0.00</td>\n",
       "      <td>0.00</td>\n",
       "      <td>0.00</td>\n",
       "      <td>...</td>\n",
       "      <td>0.00</td>\n",
       "      <td>0.00</td>\n",
       "      <td>0.00</td>\n",
       "      <td>0.00</td>\n",
       "      <td>0.00</td>\n",
       "      <td>0.00</td>\n",
       "      <td>0.32</td>\n",
       "      <td>0.00</td>\n",
       "      <td>0.69</td>\n",
       "      <td>0.65</td>\n",
       "    </tr>\n",
       "    <tr>\n",
       "      <th>2</th>\n",
       "      <td>Адыгея ТЦ \"Мега\"</td>\n",
       "      <td>2</td>\n",
       "      <td>28</td>\n",
       "      <td>3</td>\n",
       "      <td>0.00</td>\n",
       "      <td>0.00</td>\n",
       "      <td>0.00</td>\n",
       "      <td>0.00</td>\n",
       "      <td>0.00</td>\n",
       "      <td>0.00</td>\n",
       "      <td>...</td>\n",
       "      <td>0.00</td>\n",
       "      <td>0.00</td>\n",
       "      <td>0.00</td>\n",
       "      <td>0.00</td>\n",
       "      <td>0.00</td>\n",
       "      <td>0.00</td>\n",
       "      <td>0.50</td>\n",
       "      <td>0.00</td>\n",
       "      <td>0.00</td>\n",
       "      <td>0.00</td>\n",
       "    </tr>\n",
       "    <tr>\n",
       "      <th>3</th>\n",
       "      <td>Балашиха ТРК \"Октябрь-Киномир\"</td>\n",
       "      <td>3</td>\n",
       "      <td>55</td>\n",
       "      <td>3</td>\n",
       "      <td>0.00</td>\n",
       "      <td>0.00</td>\n",
       "      <td>0.00</td>\n",
       "      <td>0.00</td>\n",
       "      <td>0.00</td>\n",
       "      <td>0.00</td>\n",
       "      <td>...</td>\n",
       "      <td>0.00</td>\n",
       "      <td>0.00</td>\n",
       "      <td>0.00</td>\n",
       "      <td>0.00</td>\n",
       "      <td>1.00</td>\n",
       "      <td>0.00</td>\n",
       "      <td>0.00</td>\n",
       "      <td>0.00</td>\n",
       "      <td>0.00</td>\n",
       "      <td>0.00</td>\n",
       "    </tr>\n",
       "    <tr>\n",
       "      <th>4</th>\n",
       "      <td>Волжский ТЦ \"Волга Молл\"</td>\n",
       "      <td>4</td>\n",
       "      <td>43</td>\n",
       "      <td>4</td>\n",
       "      <td>0.00</td>\n",
       "      <td>0.00</td>\n",
       "      <td>0.00</td>\n",
       "      <td>0.00</td>\n",
       "      <td>0.00</td>\n",
       "      <td>0.00</td>\n",
       "      <td>...</td>\n",
       "      <td>0.00</td>\n",
       "      <td>0.00</td>\n",
       "      <td>0.00</td>\n",
       "      <td>0.00</td>\n",
       "      <td>0.00</td>\n",
       "      <td>0.00</td>\n",
       "      <td>0.42</td>\n",
       "      <td>0.00</td>\n",
       "      <td>0.00</td>\n",
       "      <td>0.00</td>\n",
       "    </tr>\n",
       "  </tbody>\n",
       "</table>\n",
       "<p>5 rows × 29 columns</p>\n",
       "</div>"
      ],
      "text/plain": [
       "                        shop_name  shop_id  shop_name_len  shop_name_wc  \\\n",
       "0   !Якутск Орджоникидзе, 56 фран        0             51             4   \n",
       "1   !Якутск ТЦ \"Центральный\" фран        1             52             4   \n",
       "2                Адыгея ТЦ \"Мега\"        2             28             3   \n",
       "3  Балашиха ТРК \"Октябрь-Киномир\"        3             55             3   \n",
       "4        Волжский ТЦ \"Волга Молл\"        4             43             4   \n",
       "\n",
       "     shop_name_tfidf_0    shop_name_tfidf_1    shop_name_tfidf_2  \\\n",
       "0                 0.00                 0.00                 0.00   \n",
       "1                 0.00                 0.00                 0.00   \n",
       "2                 0.00                 0.00                 0.00   \n",
       "3                 0.00                 0.00                 0.00   \n",
       "4                 0.00                 0.00                 0.00   \n",
       "\n",
       "     shop_name_tfidf_3    shop_name_tfidf_4    shop_name_tfidf_5  ...  \\\n",
       "0                 0.00                 0.00                 0.00  ...   \n",
       "1                 0.00                 0.00                 0.00  ...   \n",
       "2                 0.00                 0.00                 0.00  ...   \n",
       "3                 0.00                 0.00                 0.00  ...   \n",
       "4                 0.00                 0.00                 0.00  ...   \n",
       "\n",
       "    shop_name_tfidf_15   shop_name_tfidf_16   shop_name_tfidf_17  \\\n",
       "0                 0.00                 0.00                 0.00   \n",
       "1                 0.00                 0.00                 0.00   \n",
       "2                 0.00                 0.00                 0.00   \n",
       "3                 0.00                 0.00                 0.00   \n",
       "4                 0.00                 0.00                 0.00   \n",
       "\n",
       "    shop_name_tfidf_18   shop_name_tfidf_19   shop_name_tfidf_20  \\\n",
       "0                 0.00                 0.00                 0.00   \n",
       "1                 0.00                 0.00                 0.00   \n",
       "2                 0.00                 0.00                 0.00   \n",
       "3                 0.00                 1.00                 0.00   \n",
       "4                 0.00                 0.00                 0.00   \n",
       "\n",
       "    shop_name_tfidf_21   shop_name_tfidf_22   shop_name_tfidf_23  \\\n",
       "0                 0.00                 0.00                 0.00   \n",
       "1                 0.32                 0.00                 0.69   \n",
       "2                 0.50                 0.00                 0.00   \n",
       "3                 0.00                 0.00                 0.00   \n",
       "4                 0.42                 0.00                 0.00   \n",
       "\n",
       "    shop_name_tfidf_24  \n",
       "0                 1.00  \n",
       "1                 0.65  \n",
       "2                 0.00  \n",
       "3                 0.00  \n",
       "4                 0.00  \n",
       "\n",
       "[5 rows x 29 columns]"
      ]
     },
     "execution_count": 14,
     "metadata": {},
     "output_type": "execute_result"
    }
   ],
   "source": [
    "# For shop names\n",
    "tfidf = text.TfidfVectorizer(max_features = nb_features)\n",
    "shops1['shop_name_len'] = shops1['shop_name'].map(len)  # Name lenth\n",
    "shops1['shop_name_wc'] = shops1['shop_name'].map(lambda x: len(str(x).split(' ')))  # Word Count\n",
    "txtFeatures = pd.DataFrame(tfidf.fit_transform(shops1['shop_name']).toarray())\n",
    "cols = txtFeatures.columns\n",
    "for i in range(nb_features):\n",
    "    shops1['shop_name_tfidf_' + str(i)] = txtFeatures[cols[i]]\n",
    "shops1.head()"
   ]
  },
  {
   "cell_type": "markdown",
   "metadata": {},
   "source": [
    "## 2.4. Check for duplicates\n",
    "\n",
    "There are 24 duplicate rows in our data:"
   ]
  },
  {
   "cell_type": "code",
   "execution_count": 15,
   "metadata": {},
   "outputs": [
    {
     "name": "stdout",
     "output_type": "stream",
     "text": [
      "False    2935825\n",
      "True          24\n",
      "dtype: int64\n"
     ]
    }
   ],
   "source": [
    "cols = ['date','date_block_num','shop_id','item_id','item_cnt_day']\n",
    "print(train.duplicated(subset=cols).value_counts())\n",
    "train.drop_duplicates(subset=cols, inplace=True)"
   ]
  },
  {
   "cell_type": "markdown",
   "metadata": {},
   "source": [
    "## 2.5. Creating a starting point for data engineering (with test set)"
   ]
  },
  {
   "cell_type": "code",
   "execution_count": 16,
   "metadata": {},
   "outputs": [
    {
     "data": {
      "text/html": [
       "<div>\n",
       "<style scoped>\n",
       "    .dataframe tbody tr th:only-of-type {\n",
       "        vertical-align: middle;\n",
       "    }\n",
       "\n",
       "    .dataframe tbody tr th {\n",
       "        vertical-align: top;\n",
       "    }\n",
       "\n",
       "    .dataframe thead th {\n",
       "        text-align: right;\n",
       "    }\n",
       "</style>\n",
       "<table border=\"1\" class=\"dataframe\">\n",
       "  <thead>\n",
       "    <tr style=\"text-align: right;\">\n",
       "      <th></th>\n",
       "      <th>date_block_num</th>\n",
       "      <th>shop_id</th>\n",
       "      <th>item_id</th>\n",
       "    </tr>\n",
       "  </thead>\n",
       "  <tbody>\n",
       "    <tr>\n",
       "      <th>139255</th>\n",
       "      <td>0</td>\n",
       "      <td>0</td>\n",
       "      <td>19</td>\n",
       "    </tr>\n",
       "    <tr>\n",
       "      <th>141495</th>\n",
       "      <td>0</td>\n",
       "      <td>0</td>\n",
       "      <td>27</td>\n",
       "    </tr>\n",
       "    <tr>\n",
       "      <th>144968</th>\n",
       "      <td>0</td>\n",
       "      <td>0</td>\n",
       "      <td>28</td>\n",
       "    </tr>\n",
       "    <tr>\n",
       "      <th>142661</th>\n",
       "      <td>0</td>\n",
       "      <td>0</td>\n",
       "      <td>29</td>\n",
       "    </tr>\n",
       "    <tr>\n",
       "      <th>138947</th>\n",
       "      <td>0</td>\n",
       "      <td>0</td>\n",
       "      <td>32</td>\n",
       "    </tr>\n",
       "  </tbody>\n",
       "</table>\n",
       "</div>"
      ],
      "text/plain": [
       "        date_block_num  shop_id  item_id\n",
       "139255               0        0       19\n",
       "141495               0        0       27\n",
       "144968               0        0       28\n",
       "142661               0        0       29\n",
       "138947               0        0       32"
      ]
     },
     "execution_count": 16,
     "metadata": {},
     "output_type": "execute_result"
    }
   ],
   "source": [
    "train1 = []\n",
    "cols = ['date_block_num','shop_id','item_id']\n",
    "for block_num in range(34):\n",
    "    temp = train[train.date_block_num==block_num]\n",
    "    train1.append(np.array(list(product([block_num], temp['shop_id'].unique(), temp['item_id'].unique()))))\n",
    "    \n",
    "train1 = pd.DataFrame(np.vstack(train1), columns=cols)\n",
    "train1['date_block_num'] = train1['date_block_num'].astype(np.int8)\n",
    "train1['shop_id'] = train1['shop_id'].astype(np.int8)\n",
    "train1['item_id'] = train1['item_id'].astype(np.int16)\n",
    "train1.sort_values(cols,inplace=True);\n",
    "train1.head()"
   ]
  },
  {
   "cell_type": "code",
   "execution_count": 17,
   "metadata": {},
   "outputs": [
    {
     "name": "stdout",
     "output_type": "stream",
     "text": [
      "(10913850, 4)\n"
     ]
    },
    {
     "data": {
      "text/html": [
       "<div>\n",
       "<style scoped>\n",
       "    .dataframe tbody tr th:only-of-type {\n",
       "        vertical-align: middle;\n",
       "    }\n",
       "\n",
       "    .dataframe tbody tr th {\n",
       "        vertical-align: top;\n",
       "    }\n",
       "\n",
       "    .dataframe thead th {\n",
       "        text-align: right;\n",
       "    }\n",
       "</style>\n",
       "<table border=\"1\" class=\"dataframe\">\n",
       "  <thead>\n",
       "    <tr style=\"text-align: right;\">\n",
       "      <th></th>\n",
       "      <th>date_block_num</th>\n",
       "      <th>shop_id</th>\n",
       "      <th>item_id</th>\n",
       "      <th>item_cnt_month</th>\n",
       "    </tr>\n",
       "  </thead>\n",
       "  <tbody>\n",
       "    <tr>\n",
       "      <th>0</th>\n",
       "      <td>0</td>\n",
       "      <td>0</td>\n",
       "      <td>19</td>\n",
       "      <td>0.00</td>\n",
       "    </tr>\n",
       "    <tr>\n",
       "      <th>1</th>\n",
       "      <td>0</td>\n",
       "      <td>0</td>\n",
       "      <td>27</td>\n",
       "      <td>0.00</td>\n",
       "    </tr>\n",
       "    <tr>\n",
       "      <th>2</th>\n",
       "      <td>0</td>\n",
       "      <td>0</td>\n",
       "      <td>28</td>\n",
       "      <td>0.00</td>\n",
       "    </tr>\n",
       "    <tr>\n",
       "      <th>3</th>\n",
       "      <td>0</td>\n",
       "      <td>0</td>\n",
       "      <td>29</td>\n",
       "      <td>0.00</td>\n",
       "    </tr>\n",
       "    <tr>\n",
       "      <th>4</th>\n",
       "      <td>0</td>\n",
       "      <td>0</td>\n",
       "      <td>32</td>\n",
       "      <td>6.00</td>\n",
       "    </tr>\n",
       "  </tbody>\n",
       "</table>\n",
       "</div>"
      ],
      "text/plain": [
       "   date_block_num  shop_id  item_id       item_cnt_month\n",
       "0               0        0       19                 0.00\n",
       "1               0        0       27                 0.00\n",
       "2               0        0       28                 0.00\n",
       "3               0        0       29                 0.00\n",
       "4               0        0       32                 6.00"
      ]
     },
     "execution_count": 17,
     "metadata": {},
     "output_type": "execute_result"
    }
   ],
   "source": [
    "temp = train.groupby(['date_block_num','shop_id','item_id']).agg({'item_cnt_day': ['sum']})\n",
    "temp.columns = ['item_cnt_month']\n",
    "temp.reset_index(inplace=True)\n",
    "\n",
    "train1 = pd.merge(train1, temp, on=cols, how='left')\n",
    "train1['item_cnt_month'] = (train1['item_cnt_month'].fillna(0).clip(0,20).astype(np.float16))\n",
    "print(train1.shape)\n",
    "train1.head()"
   ]
  },
  {
   "cell_type": "markdown",
   "metadata": {},
   "source": [
    "One of the most challenging aspects of this competition is that the testing set to be submitted on Kaggle is devoid of features. The test set represents pairs of `(item ID, shop ID)` for the month of November 2015. It is thus a time series problem where we are using sales' results from January 2013 to October 2015 to predict future sales (November 2015). We add the test set to the training set by adding a 34th `date_block_num` key."
   ]
  },
  {
   "cell_type": "code",
   "execution_count": 18,
   "metadata": {},
   "outputs": [
    {
     "name": "stdout",
     "output_type": "stream",
     "text": [
      "(11128050, 4)\n"
     ]
    },
    {
     "data": {
      "text/html": [
       "<div>\n",
       "<style scoped>\n",
       "    .dataframe tbody tr th:only-of-type {\n",
       "        vertical-align: middle;\n",
       "    }\n",
       "\n",
       "    .dataframe tbody tr th {\n",
       "        vertical-align: top;\n",
       "    }\n",
       "\n",
       "    .dataframe thead th {\n",
       "        text-align: right;\n",
       "    }\n",
       "</style>\n",
       "<table border=\"1\" class=\"dataframe\">\n",
       "  <thead>\n",
       "    <tr style=\"text-align: right;\">\n",
       "      <th></th>\n",
       "      <th>date_block_num</th>\n",
       "      <th>shop_id</th>\n",
       "      <th>item_id</th>\n",
       "      <th>item_cnt_month</th>\n",
       "    </tr>\n",
       "  </thead>\n",
       "  <tbody>\n",
       "    <tr>\n",
       "      <th>11128045</th>\n",
       "      <td>34</td>\n",
       "      <td>45</td>\n",
       "      <td>18454</td>\n",
       "      <td>0.00</td>\n",
       "    </tr>\n",
       "    <tr>\n",
       "      <th>11128046</th>\n",
       "      <td>34</td>\n",
       "      <td>45</td>\n",
       "      <td>16188</td>\n",
       "      <td>0.00</td>\n",
       "    </tr>\n",
       "    <tr>\n",
       "      <th>11128047</th>\n",
       "      <td>34</td>\n",
       "      <td>45</td>\n",
       "      <td>15757</td>\n",
       "      <td>0.00</td>\n",
       "    </tr>\n",
       "    <tr>\n",
       "      <th>11128048</th>\n",
       "      <td>34</td>\n",
       "      <td>45</td>\n",
       "      <td>19648</td>\n",
       "      <td>0.00</td>\n",
       "    </tr>\n",
       "    <tr>\n",
       "      <th>11128049</th>\n",
       "      <td>34</td>\n",
       "      <td>45</td>\n",
       "      <td>969</td>\n",
       "      <td>0.00</td>\n",
       "    </tr>\n",
       "  </tbody>\n",
       "</table>\n",
       "</div>"
      ],
      "text/plain": [
       "          date_block_num  shop_id  item_id       item_cnt_month\n",
       "11128045              34       45    18454                 0.00\n",
       "11128046              34       45    16188                 0.00\n",
       "11128047              34       45    15757                 0.00\n",
       "11128048              34       45    19648                 0.00\n",
       "11128049              34       45      969                 0.00"
      ]
     },
     "execution_count": 18,
     "metadata": {},
     "output_type": "execute_result"
    }
   ],
   "source": [
    "test['date_block_num'] = 34\n",
    "test['date_block_num'] = test['date_block_num'].astype(np.int8)\n",
    "test['shop_id'] = test['shop_id'].astype(np.int8)\n",
    "test['item_id'] = test['item_id'].astype(np.int16)\n",
    "\n",
    "train2 = pd.concat([train1, test], ignore_index=True, sort=False, keys=cols)\n",
    "train2.fillna(0, inplace=True)\n",
    "print(train2.shape)\n",
    "train2.tail()"
   ]
  },
  {
   "cell_type": "code",
   "execution_count": 19,
   "metadata": {},
   "outputs": [
    {
     "data": {
      "text/plain": [
       "array(['date_block_num', 'shop_id', 'item_id', 'item_cnt_month'],\n",
       "      dtype=object)"
      ]
     },
     "execution_count": 19,
     "metadata": {},
     "output_type": "execute_result"
    }
   ],
   "source": [
    "train2.columns.values"
   ]
  },
  {
   "cell_type": "markdown",
   "metadata": {},
   "source": [
    "## 2.6. Create lagged features\n",
    "\n",
    "We want to capture past behavior of several item-shop, item category-shop or item-city pairings (among others):\n",
    "\n",
    "- *date_avg_item_cnt*\n",
    "- *date_item_avg_item_cnt*\n",
    "- *date_shop_avg_item_cnt*\n",
    "- *date_cat_avg_item_cnt*\n",
    "- *date_shop_cat_avg_item_cnt*\n",
    "- *date_shop_subtype_avg_item_cnt*\n",
    "- *date_city_avg_item_cnt*\n",
    "- *date_shop_type_avg_item_cnt*\n",
    "- *date_shop_subtype_avg_item_cnt*\n",
    "- *date_item_city_avg_item_cnt*\n",
    "- *date_type_avg_item_cnt*\n",
    "- *date_subtype_avg_item_cnt*"
   ]
  },
  {
   "cell_type": "code",
   "execution_count": 20,
   "metadata": {},
   "outputs": [],
   "source": [
    "def lag_feature(df, lags, col):\n",
    "    tmp = df[['date_block_num','shop_id','item_id', col]]\n",
    "    for i in lags:\n",
    "        shifted = tmp.copy()\n",
    "        shifted.columns = ['date_block_num','shop_id','item_id', col+'_lag_'+str(i)]\n",
    "        shifted['date_block_num'] += i\n",
    "        df = pd.merge(df, shifted, on=['date_block_num','shop_id','item_id'], how='left')\n",
    "    return df"
   ]
  },
  {
   "cell_type": "code",
   "execution_count": 21,
   "metadata": {},
   "outputs": [],
   "source": [
    "train3 = pd.merge(train2, shops, on=['shop_id'], how='left')\n",
    "train3 = pd.merge(train3, items, on=['item_id'], how='left')\n",
    "train3 = pd.merge(train3, item_categories, on=['item_category_id'], how='left')"
   ]
  },
  {
   "cell_type": "code",
   "execution_count": 22,
   "metadata": {},
   "outputs": [
    {
     "data": {
      "text/plain": [
       "array(['date_block_num', 'shop_id', 'item_id', 'item_cnt_month',\n",
       "       'city_code', 'item_category_id', 'type_code', 'subtype_code'],\n",
       "      dtype=object)"
      ]
     },
     "execution_count": 22,
     "metadata": {},
     "output_type": "execute_result"
    }
   ],
   "source": [
    "train3.columns.values"
   ]
  },
  {
   "cell_type": "markdown",
   "metadata": {},
   "source": [
    "########## 1. Create 'date_avg_item_cnt'\n",
    "temp = train3.groupby(['date_block_num']).agg({'item_cnt_month': ['mean']})\n",
    "temp.columns = ['date_avg_item_cnt']          ###\n",
    "temp.reset_index(inplace=True)\n",
    "train3 = pd.merge(train3, temp, on=['date_block_num'], how='left')\n",
    "train3 = lag_feature(train3, [1], 'date_avg_item_cnt')\n",
    "train3.drop(['date_avg_item_cnt'], axis=1, inplace=True)\n",
    "\n",
    "########## 2. Create 'date_item_avg_item_cnt'\n",
    "temp = train3.groupby(['date_block_num', 'item_id']).agg({'item_cnt_month': ['mean']})\n",
    "temp.columns = ['date_item_avg_item_cnt']     ###\n",
    "temp.reset_index(inplace=True)\n",
    "train3 = pd.merge(train3, temp, on=['date_block_num','item_id'], how='left')\n",
    "train3 = lag_feature(train3, [1, 2, 3, 6, 12], 'date_item_avg_item_cnt')\n",
    "train3.drop(['date_item_avg_item_cnt'], axis=1, inplace=True)\n",
    "\n",
    "########## 3. Create 'date_shop_avg_item_cnt'\n",
    "temp = train3.groupby(['date_block_num', 'shop_id']).agg({'item_cnt_month': ['mean']})\n",
    "temp.columns = ['date_shop_avg_item_cnt']     ###\n",
    "temp.reset_index(inplace=True)\n",
    "train3 = pd.merge(train3, temp, on=['date_block_num','shop_id'], how='left')\n",
    "train3 = lag_feature(train3, [1, 2, 3, 6, 12], 'date_shop_avg_item_cnt')\n",
    "train3.drop(['date_shop_avg_item_cnt'], axis=1, inplace=True)\n",
    "\n",
    "########## 4. Create 'date_cat_avg_item_cnt'\n",
    "temp = train3.groupby(['date_block_num', 'item_category_id']).agg({'item_cnt_month': ['mean']})\n",
    "temp.columns = ['date_cat_avg_item_cnt']      ###\n",
    "temp.reset_index(inplace=True)\n",
    "train3 = pd.merge(train3, temp, on=['date_block_num','item_category_id'], how='left')\n",
    "train3 = lag_feature(train3, [1], 'date_cat_avg_item_cnt')\n",
    "train3.drop(['date_cat_avg_item_cnt'], axis=1, inplace=True)\n",
    "\n",
    "########## 5. Create 'date_shop_cat_avg_item_cnt'\n",
    "temp = train3.groupby(['date_block_num', 'shop_id', 'item_category_id']).agg({'item_cnt_month': ['mean']})\n",
    "temp.columns = ['date_shop_cat_avg_item_cnt']    ###\n",
    "temp.reset_index(inplace=True)\n",
    "train3 = pd.merge(train3, temp, on=['date_block_num', 'shop_id', 'item_category_id'], how='left')\n",
    "train3 = lag_feature(train3, [1], 'date_shop_cat_avg_item_cnt')\n",
    "train3.drop(['date_shop_cat_avg_item_cnt'], axis=1, inplace=True)\n",
    "\n",
    "########## 6. Create 'date_shop_type_avg_item_cnt'\n",
    "temp = train3.groupby(['date_block_num', 'shop_id', 'type_code']).agg({'item_cnt_month': ['mean']})\n",
    "temp.columns = ['date_shop_type_avg_item_cnt']    ###\n",
    "temp.reset_index(inplace=True)\n",
    "train3 = pd.merge(train3, temp, on=['date_block_num', 'shop_id', 'type_code'], how='left')\n",
    "train3 = lag_feature(train3, [1], 'date_shop_type_avg_item_cnt')\n",
    "train3.drop(['date_shop_type_avg_item_cnt'], axis=1, inplace=True)\n",
    "\n",
    "########## 7. Create 'date_type_avg_item_cnt'\n",
    "temp = train3.groupby(['date_block_num', 'type_code']).agg({'item_cnt_month': ['mean']})\n",
    "temp.columns = ['date_type_avg_item_cnt']     ###\n",
    "temp.reset_index(inplace=True)\n",
    "train3 = pd.merge(train3, temp, on=['date_block_num', 'type_code'], how='left')\n",
    "train3 = lag_feature(train3, [1], 'date_type_avg_item_cnt')\n",
    "train3.drop(['date_type_avg_item_cnt'], axis=1, inplace=True)\n",
    "\n",
    "########## 8. Create 'date_city_avg_item_cnt'\n",
    "temp = train3.groupby(['date_block_num', 'city_code']).agg({'item_cnt_month': ['mean']})\n",
    "temp.columns = ['date_city_avg_item_cnt']     ###\n",
    "temp.reset_index(inplace=True)\n",
    "train3 = pd.merge(train3, temp, on=['date_block_num', 'city_code'], how='left')\n",
    "train3 = lag_feature(train3, [1], 'date_city_avg_item_cnt')\n",
    "train3.drop(['date_city_avg_item_cnt'], axis=1, inplace=True)\n",
    "\n",
    "########## 9. Create 'date_shop_subtype_avg_item_cnt'\n",
    "temp = train3.groupby(['date_block_num', 'shop_id', 'subtype_code']).agg({'item_cnt_month': ['mean']})\n",
    "temp.columns = ['date_shop_subtype_avg_item_cnt']   ###\n",
    "temp.reset_index(inplace=True)\n",
    "train3 = pd.merge(train3, temp, on=['date_block_num', 'shop_id', 'subtype_code'], how='left')\n",
    "train3 = lag_feature(train3, [1], 'date_shop_subtype_avg_item_cnt')\n",
    "train3.drop(['date_shop_subtype_avg_item_cnt'], axis=1, inplace=True)\n",
    "\n",
    "########## 10. Create 'date_item_city_avg_item_cnt'\n",
    "temp = train3.groupby(['date_block_num', 'item_id', 'city_code']).agg({'item_cnt_month': ['mean']})\n",
    "temp.columns = ['date_item_city_avg_item_cnt']     ###\n",
    "temp.reset_index(inplace=True)\n",
    "train3 = pd.merge(train3, temp, on=['date_block_num', 'item_id', 'city_code'], how='left')\n",
    "train3 = lag_feature(train3, [1], 'date_item_city_avg_item_cnt')\n",
    "train3.drop(['date_item_city_avg_item_cnt'], axis=1, inplace=True)\n",
    "\n",
    "########## 11. Create 'date_subtype_avg_item_cnt'\n",
    "temp = train3.groupby(['date_block_num', 'subtype_code']).agg({'item_cnt_month': ['mean']})\n",
    "temp.columns = ['date_subtype_avg_item_cnt']     ###\n",
    "temp.reset_index(inplace=True)\n",
    "train3 = pd.merge(train3, temp, on=['date_block_num', 'subtype_code'], how='left')\n",
    "train3 = lag_feature(train3, [1], 'date_subtype_avg_item_cnt')\n",
    "train3.drop(['date_subtype_avg_item_cnt'], axis=1, inplace=True)\n",
    "train3.head()"
   ]
  },
  {
   "cell_type": "markdown",
   "metadata": {},
   "source": [
    "## 2.7. Create time series trend features\n",
    "\n",
    "We also want to capture past trends that might give us a hint of the future sales evolution (and thus information on the testing set):"
   ]
  },
  {
   "cell_type": "code",
   "execution_count": 23,
   "metadata": {},
   "outputs": [],
   "source": [
    "def select_trend(row):\n",
    "    for i in lags:\n",
    "        if row['delta_price_lag_'+str(i)]:\n",
    "            return row['delta_price_lag_'+str(i)]\n",
    "    return 0"
   ]
  },
  {
   "cell_type": "code",
   "execution_count": 24,
   "metadata": {},
   "outputs": [],
   "source": [
    "# Trend features for prices\n",
    "temp = train.groupby(['item_id']).agg({'item_price': ['mean']})\n",
    "temp.columns = ['item_avg_item_price']\n",
    "temp.reset_index(inplace=True)\n",
    "train4 = pd.merge(train3, temp, on=['item_id'], how='left')\n",
    "\n",
    "temp = train.groupby(['date_block_num','item_id']).agg({'item_price': ['mean']})\n",
    "temp.columns = ['date_item_avg_item_price']\n",
    "temp.reset_index(inplace=True)\n",
    "train4 = pd.merge(train4, temp, on=['date_block_num','item_id'], how='left')\n",
    "\n",
    "lags = [1,2,3,4,5,6]\n",
    "train4 = lag_feature(train4, lags, 'date_item_avg_item_price')\n",
    "\n",
    "for i in lags:\n",
    "    train4['delta_price_lag_'+str(i)] = \\\n",
    "    (train4['date_item_avg_item_price_lag_'+str(i)] - train4['item_avg_item_price']) / train4['item_avg_item_price']\n",
    "    \n",
    "train4['delta_price_lag'] = train4.apply(select_trend, axis=1)\n",
    "train4['delta_price_lag'].fillna(0, inplace=True)\n",
    "\n",
    "dropped_cols = ['item_avg_item_price', 'date_item_avg_item_price']\n",
    "for i in lags:\n",
    "    dropped_cols += ['date_item_avg_item_price_lag_'+str(i)]\n",
    "    dropped_cols += ['delta_price_lag_'+str(i)]\n",
    "\n",
    "train4.drop(dropped_cols, axis=1, inplace=True)"
   ]
  },
  {
   "cell_type": "code",
   "execution_count": 25,
   "metadata": {},
   "outputs": [],
   "source": [
    "# Trend features for revenue\n",
    "temp = train.groupby(['date_block_num','shop_id']).agg({'sales': ['sum']})\n",
    "temp.columns = ['date_shop_revenue']\n",
    "temp.reset_index(inplace=True)\n",
    "train4 = pd.merge(train4, temp, on=['date_block_num','shop_id'], how='left')\n",
    "\n",
    "temp = train4.groupby(['shop_id']).agg({'date_shop_revenue': ['mean']})\n",
    "temp.columns = ['shop_avg_revenue']\n",
    "temp.reset_index(inplace=True)\n",
    "train4 = pd.merge(train4, temp, on=['shop_id'], how='left')\n",
    "\n",
    "train4['delta_revenue'] = (train4['date_shop_revenue'] - train4['shop_avg_revenue']) / train4['shop_avg_revenue']\n",
    "train4 = lag_feature(train4, [1], 'delta_revenue')\n",
    "train4.drop(['date_shop_revenue','shop_avg_revenue','delta_revenue'], axis=1, inplace=True)"
   ]
  },
  {
   "cell_type": "code",
   "execution_count": 26,
   "metadata": {},
   "outputs": [],
   "source": [
    "train4['delta_revenue_lag_1'] = train4['delta_revenue_lag_1'].fillna(0.0)"
   ]
  },
  {
   "cell_type": "code",
   "execution_count": 27,
   "metadata": {},
   "outputs": [
    {
     "name": "stdout",
     "output_type": "stream",
     "text": [
      "(11128050, 10)\n"
     ]
    },
    {
     "data": {
      "text/html": [
       "<div>\n",
       "<style scoped>\n",
       "    .dataframe tbody tr th:only-of-type {\n",
       "        vertical-align: middle;\n",
       "    }\n",
       "\n",
       "    .dataframe tbody tr th {\n",
       "        vertical-align: top;\n",
       "    }\n",
       "\n",
       "    .dataframe thead th {\n",
       "        text-align: right;\n",
       "    }\n",
       "</style>\n",
       "<table border=\"1\" class=\"dataframe\">\n",
       "  <thead>\n",
       "    <tr style=\"text-align: right;\">\n",
       "      <th></th>\n",
       "      <th>date_block_num</th>\n",
       "      <th>shop_id</th>\n",
       "      <th>item_id</th>\n",
       "      <th>item_cnt_month</th>\n",
       "      <th>city_code</th>\n",
       "      <th>item_category_id</th>\n",
       "      <th>type_code</th>\n",
       "      <th>subtype_code</th>\n",
       "      <th>delta_price_lag</th>\n",
       "      <th>delta_revenue_lag_1</th>\n",
       "    </tr>\n",
       "  </thead>\n",
       "  <tbody>\n",
       "    <tr>\n",
       "      <th>0</th>\n",
       "      <td>0</td>\n",
       "      <td>0</td>\n",
       "      <td>19</td>\n",
       "      <td>0.00</td>\n",
       "      <td>29</td>\n",
       "      <td>40</td>\n",
       "      <td>11</td>\n",
       "      <td>4</td>\n",
       "      <td>0.00</td>\n",
       "      <td>0.00</td>\n",
       "    </tr>\n",
       "    <tr>\n",
       "      <th>1</th>\n",
       "      <td>0</td>\n",
       "      <td>0</td>\n",
       "      <td>27</td>\n",
       "      <td>0.00</td>\n",
       "      <td>29</td>\n",
       "      <td>19</td>\n",
       "      <td>5</td>\n",
       "      <td>10</td>\n",
       "      <td>0.00</td>\n",
       "      <td>0.00</td>\n",
       "    </tr>\n",
       "    <tr>\n",
       "      <th>2</th>\n",
       "      <td>0</td>\n",
       "      <td>0</td>\n",
       "      <td>28</td>\n",
       "      <td>0.00</td>\n",
       "      <td>29</td>\n",
       "      <td>30</td>\n",
       "      <td>8</td>\n",
       "      <td>55</td>\n",
       "      <td>0.00</td>\n",
       "      <td>0.00</td>\n",
       "    </tr>\n",
       "    <tr>\n",
       "      <th>3</th>\n",
       "      <td>0</td>\n",
       "      <td>0</td>\n",
       "      <td>29</td>\n",
       "      <td>0.00</td>\n",
       "      <td>29</td>\n",
       "      <td>23</td>\n",
       "      <td>5</td>\n",
       "      <td>16</td>\n",
       "      <td>0.00</td>\n",
       "      <td>0.00</td>\n",
       "    </tr>\n",
       "    <tr>\n",
       "      <th>4</th>\n",
       "      <td>0</td>\n",
       "      <td>0</td>\n",
       "      <td>32</td>\n",
       "      <td>6.00</td>\n",
       "      <td>29</td>\n",
       "      <td>40</td>\n",
       "      <td>11</td>\n",
       "      <td>4</td>\n",
       "      <td>0.00</td>\n",
       "      <td>0.00</td>\n",
       "    </tr>\n",
       "  </tbody>\n",
       "</table>\n",
       "</div>"
      ],
      "text/plain": [
       "   date_block_num  shop_id  item_id       item_cnt_month  city_code  \\\n",
       "0               0        0       19                 0.00         29   \n",
       "1               0        0       27                 0.00         29   \n",
       "2               0        0       28                 0.00         29   \n",
       "3               0        0       29                 0.00         29   \n",
       "4               0        0       32                 6.00         29   \n",
       "\n",
       "   item_category_id  type_code  subtype_code      delta_price_lag  \\\n",
       "0                40         11             4                 0.00   \n",
       "1                19          5            10                 0.00   \n",
       "2                30          8            55                 0.00   \n",
       "3                23          5            16                 0.00   \n",
       "4                40         11             4                 0.00   \n",
       "\n",
       "   delta_revenue_lag_1  \n",
       "0                 0.00  \n",
       "1                 0.00  \n",
       "2                 0.00  \n",
       "3                 0.00  \n",
       "4                 0.00  "
      ]
     },
     "execution_count": 27,
     "metadata": {},
     "output_type": "execute_result"
    }
   ],
   "source": [
    "print(train4.shape)\n",
    "train4.head()"
   ]
  },
  {
   "cell_type": "markdown",
   "metadata": {},
   "source": [
    "## 2.8. Feature matrix\n",
    "\n",
    "We finally have our feature matrix $X$:"
   ]
  },
  {
   "cell_type": "code",
   "execution_count": 28,
   "metadata": {},
   "outputs": [
    {
     "name": "stdout",
     "output_type": "stream",
     "text": [
      "(6639294, 10)\n"
     ]
    }
   ],
   "source": [
    "df = train4[train4['date_block_num'] > 11]\n",
    "print(df.shape)\n",
    "\n",
    "for col in df.columns:\n",
    "    if ('_lag_' in col) & (df[col].isnull().any()):\n",
    "        if ('item_cnt' in col):\n",
    "            df[col].fillna(0, inplace=True)   "
   ]
  },
  {
   "cell_type": "markdown",
   "metadata": {},
   "source": [
    "Finally, we add the text processed features (with TF-IDF) from section 2.3:"
   ]
  },
  {
   "cell_type": "code",
   "execution_count": 29,
   "metadata": {},
   "outputs": [
    {
     "data": {
      "text/html": [
       "<div>\n",
       "<style scoped>\n",
       "    .dataframe tbody tr th:only-of-type {\n",
       "        vertical-align: middle;\n",
       "    }\n",
       "\n",
       "    .dataframe tbody tr th {\n",
       "        vertical-align: top;\n",
       "    }\n",
       "\n",
       "    .dataframe thead th {\n",
       "        text-align: right;\n",
       "    }\n",
       "</style>\n",
       "<table border=\"1\" class=\"dataframe\">\n",
       "  <thead>\n",
       "    <tr style=\"text-align: right;\">\n",
       "      <th></th>\n",
       "      <th>date_block_num</th>\n",
       "      <th>shop_id</th>\n",
       "      <th>item_id</th>\n",
       "      <th>item_cnt_month</th>\n",
       "      <th>city_code</th>\n",
       "      <th>item_category_id_x</th>\n",
       "      <th>type_code</th>\n",
       "      <th>subtype_code</th>\n",
       "      <th>delta_price_lag</th>\n",
       "      <th>delta_revenue_lag_1</th>\n",
       "      <th>...</th>\n",
       "      <th>shop_name_tfidf_15</th>\n",
       "      <th>shop_name_tfidf_16</th>\n",
       "      <th>shop_name_tfidf_17</th>\n",
       "      <th>shop_name_tfidf_18</th>\n",
       "      <th>shop_name_tfidf_19</th>\n",
       "      <th>shop_name_tfidf_20</th>\n",
       "      <th>shop_name_tfidf_21</th>\n",
       "      <th>shop_name_tfidf_22</th>\n",
       "      <th>shop_name_tfidf_23</th>\n",
       "      <th>shop_name_tfidf_24</th>\n",
       "    </tr>\n",
       "  </thead>\n",
       "  <tbody>\n",
       "    <tr>\n",
       "      <th>0</th>\n",
       "      <td>12</td>\n",
       "      <td>2</td>\n",
       "      <td>27</td>\n",
       "      <td>0.00</td>\n",
       "      <td>0</td>\n",
       "      <td>19</td>\n",
       "      <td>5</td>\n",
       "      <td>10</td>\n",
       "      <td>-0.28</td>\n",
       "      <td>1.23</td>\n",
       "      <td>...</td>\n",
       "      <td>0.00</td>\n",
       "      <td>0.00</td>\n",
       "      <td>0.00</td>\n",
       "      <td>0.00</td>\n",
       "      <td>0.00</td>\n",
       "      <td>0.00</td>\n",
       "      <td>0.50</td>\n",
       "      <td>0.00</td>\n",
       "      <td>0.00</td>\n",
       "      <td>0.00</td>\n",
       "    </tr>\n",
       "    <tr>\n",
       "      <th>1</th>\n",
       "      <td>12</td>\n",
       "      <td>2</td>\n",
       "      <td>30</td>\n",
       "      <td>0.00</td>\n",
       "      <td>0</td>\n",
       "      <td>40</td>\n",
       "      <td>11</td>\n",
       "      <td>4</td>\n",
       "      <td>-0.48</td>\n",
       "      <td>1.23</td>\n",
       "      <td>...</td>\n",
       "      <td>0.00</td>\n",
       "      <td>0.00</td>\n",
       "      <td>0.00</td>\n",
       "      <td>0.00</td>\n",
       "      <td>0.00</td>\n",
       "      <td>0.00</td>\n",
       "      <td>0.50</td>\n",
       "      <td>0.00</td>\n",
       "      <td>0.00</td>\n",
       "      <td>0.00</td>\n",
       "    </tr>\n",
       "    <tr>\n",
       "      <th>2</th>\n",
       "      <td>12</td>\n",
       "      <td>2</td>\n",
       "      <td>31</td>\n",
       "      <td>0.00</td>\n",
       "      <td>0</td>\n",
       "      <td>37</td>\n",
       "      <td>11</td>\n",
       "      <td>1</td>\n",
       "      <td>-0.14</td>\n",
       "      <td>1.23</td>\n",
       "      <td>...</td>\n",
       "      <td>0.00</td>\n",
       "      <td>0.00</td>\n",
       "      <td>0.00</td>\n",
       "      <td>0.00</td>\n",
       "      <td>0.00</td>\n",
       "      <td>0.00</td>\n",
       "      <td>0.50</td>\n",
       "      <td>0.00</td>\n",
       "      <td>0.00</td>\n",
       "      <td>0.00</td>\n",
       "    </tr>\n",
       "    <tr>\n",
       "      <th>3</th>\n",
       "      <td>12</td>\n",
       "      <td>2</td>\n",
       "      <td>32</td>\n",
       "      <td>1.00</td>\n",
       "      <td>0</td>\n",
       "      <td>40</td>\n",
       "      <td>11</td>\n",
       "      <td>4</td>\n",
       "      <td>-0.41</td>\n",
       "      <td>1.23</td>\n",
       "      <td>...</td>\n",
       "      <td>0.00</td>\n",
       "      <td>0.00</td>\n",
       "      <td>0.00</td>\n",
       "      <td>0.00</td>\n",
       "      <td>0.00</td>\n",
       "      <td>0.00</td>\n",
       "      <td>0.50</td>\n",
       "      <td>0.00</td>\n",
       "      <td>0.00</td>\n",
       "      <td>0.00</td>\n",
       "    </tr>\n",
       "    <tr>\n",
       "      <th>4</th>\n",
       "      <td>12</td>\n",
       "      <td>2</td>\n",
       "      <td>33</td>\n",
       "      <td>1.00</td>\n",
       "      <td>0</td>\n",
       "      <td>37</td>\n",
       "      <td>11</td>\n",
       "      <td>1</td>\n",
       "      <td>-0.23</td>\n",
       "      <td>1.23</td>\n",
       "      <td>...</td>\n",
       "      <td>0.00</td>\n",
       "      <td>0.00</td>\n",
       "      <td>0.00</td>\n",
       "      <td>0.00</td>\n",
       "      <td>0.00</td>\n",
       "      <td>0.00</td>\n",
       "      <td>0.50</td>\n",
       "      <td>0.00</td>\n",
       "      <td>0.00</td>\n",
       "      <td>0.00</td>\n",
       "    </tr>\n",
       "  </tbody>\n",
       "</table>\n",
       "<p>5 rows × 67 columns</p>\n",
       "</div>"
      ],
      "text/plain": [
       "   date_block_num  shop_id  item_id       item_cnt_month  city_code  \\\n",
       "0              12        2       27                 0.00          0   \n",
       "1              12        2       30                 0.00          0   \n",
       "2              12        2       31                 0.00          0   \n",
       "3              12        2       32                 1.00          0   \n",
       "4              12        2       33                 1.00          0   \n",
       "\n",
       "   item_category_id_x  type_code  subtype_code      delta_price_lag  \\\n",
       "0                  19          5            10                -0.28   \n",
       "1                  40         11             4                -0.48   \n",
       "2                  37         11             1                -0.14   \n",
       "3                  40         11             4                -0.41   \n",
       "4                  37         11             1                -0.23   \n",
       "\n",
       "   delta_revenue_lag_1  ...   shop_name_tfidf_15   shop_name_tfidf_16  \\\n",
       "0                 1.23  ...                 0.00                 0.00   \n",
       "1                 1.23  ...                 0.00                 0.00   \n",
       "2                 1.23  ...                 0.00                 0.00   \n",
       "3                 1.23  ...                 0.00                 0.00   \n",
       "4                 1.23  ...                 0.00                 0.00   \n",
       "\n",
       "    shop_name_tfidf_17   shop_name_tfidf_18   shop_name_tfidf_19  \\\n",
       "0                 0.00                 0.00                 0.00   \n",
       "1                 0.00                 0.00                 0.00   \n",
       "2                 0.00                 0.00                 0.00   \n",
       "3                 0.00                 0.00                 0.00   \n",
       "4                 0.00                 0.00                 0.00   \n",
       "\n",
       "    shop_name_tfidf_20   shop_name_tfidf_21   shop_name_tfidf_22  \\\n",
       "0                 0.00                 0.50                 0.00   \n",
       "1                 0.00                 0.50                 0.00   \n",
       "2                 0.00                 0.50                 0.00   \n",
       "3                 0.00                 0.50                 0.00   \n",
       "4                 0.00                 0.50                 0.00   \n",
       "\n",
       "    shop_name_tfidf_23   shop_name_tfidf_24  \n",
       "0                 0.00                 0.00  \n",
       "1                 0.00                 0.00  \n",
       "2                 0.00                 0.00  \n",
       "3                 0.00                 0.00  \n",
       "4                 0.00                 0.00  \n",
       "\n",
       "[5 rows x 67 columns]"
      ]
     },
     "execution_count": 29,
     "metadata": {},
     "output_type": "execute_result"
    }
   ],
   "source": [
    "df = pd.merge(df, items1, how='left', on='item_id')\n",
    "df = pd.merge(df, shops1, how='left', on='shop_id')\n",
    "df.head()"
   ]
  },
  {
   "cell_type": "code",
   "execution_count": 30,
   "metadata": {},
   "outputs": [
    {
     "data": {
      "text/plain": [
       "array(['date_block_num', 'shop_id', 'item_id', 'item_cnt_month',\n",
       "       'city_code', 'item_category_id_x', 'type_code', 'subtype_code',\n",
       "       'delta_price_lag', 'delta_revenue_lag_1', 'item_name',\n",
       "       'item_category_id_y', 'item_name_len', 'item_name_wc',\n",
       "       'item_name_tfidf_0', 'item_name_tfidf_1', 'item_name_tfidf_2',\n",
       "       'item_name_tfidf_3', 'item_name_tfidf_4', 'item_name_tfidf_5',\n",
       "       'item_name_tfidf_6', 'item_name_tfidf_7', 'item_name_tfidf_8',\n",
       "       'item_name_tfidf_9', 'item_name_tfidf_10', 'item_name_tfidf_11',\n",
       "       'item_name_tfidf_12', 'item_name_tfidf_13', 'item_name_tfidf_14',\n",
       "       'item_name_tfidf_15', 'item_name_tfidf_16', 'item_name_tfidf_17',\n",
       "       'item_name_tfidf_18', 'item_name_tfidf_19', 'item_name_tfidf_20',\n",
       "       'item_name_tfidf_21', 'item_name_tfidf_22', 'item_name_tfidf_23',\n",
       "       'item_name_tfidf_24', 'shop_name', 'shop_name_len', 'shop_name_wc',\n",
       "       'shop_name_tfidf_0', 'shop_name_tfidf_1', 'shop_name_tfidf_2',\n",
       "       'shop_name_tfidf_3', 'shop_name_tfidf_4', 'shop_name_tfidf_5',\n",
       "       'shop_name_tfidf_6', 'shop_name_tfidf_7', 'shop_name_tfidf_8',\n",
       "       'shop_name_tfidf_9', 'shop_name_tfidf_10', 'shop_name_tfidf_11',\n",
       "       'shop_name_tfidf_12', 'shop_name_tfidf_13', 'shop_name_tfidf_14',\n",
       "       'shop_name_tfidf_15', 'shop_name_tfidf_16', 'shop_name_tfidf_17',\n",
       "       'shop_name_tfidf_18', 'shop_name_tfidf_19', 'shop_name_tfidf_20',\n",
       "       'shop_name_tfidf_21', 'shop_name_tfidf_22', 'shop_name_tfidf_23',\n",
       "       'shop_name_tfidf_24'], dtype=object)"
      ]
     },
     "execution_count": 30,
     "metadata": {},
     "output_type": "execute_result"
    }
   ],
   "source": [
    "df.columns.values"
   ]
  },
  {
   "cell_type": "code",
   "execution_count": 31,
   "metadata": {},
   "outputs": [
    {
     "name": "stdout",
     "output_type": "stream",
     "text": [
      "(6639294, 60)\n"
     ]
    }
   ],
   "source": [
    "df.drop(['item_name', 'item_name_len', 'item_name_wc', 'item_category_id_y',\n",
    "         'shop_name', 'shop_name_len', 'shop_name_wc'], axis=1, inplace=True)\n",
    "print(df.shape)"
   ]
  },
  {
   "cell_type": "code",
   "execution_count": 32,
   "metadata": {},
   "outputs": [],
   "source": [
    "cat_features = ['shop_id', 'item_id', 'city_code', 'item_category_id_x', 'type_code', 'subtype_code']"
   ]
  },
  {
   "cell_type": "code",
   "execution_count": 33,
   "metadata": {},
   "outputs": [
    {
     "data": {
      "text/plain": [
       "494"
      ]
     },
     "execution_count": 33,
     "metadata": {},
     "output_type": "execute_result"
    }
   ],
   "source": [
    "del train1, train2, train3, train4, temp\n",
    "gc.collect()"
   ]
  },
  {
   "cell_type": "markdown",
   "metadata": {},
   "source": [
    "# Part 3/6: Exploratory data analysis\n",
    "\n",
    "## 3.1. Target variable\n",
    "\n",
    "The **target variable** to be predicted is the `item_cnt_month` (number of products sold). Let's check its time series evolution and KDE distribution:"
   ]
  },
  {
   "cell_type": "code",
   "execution_count": 35,
   "metadata": {
    "scrolled": false
   },
   "outputs": [
    {
     "data": {
      "image/png": "[encoded data removed]",
      "text/plain": [
       "<Figure size 1008x360 with 1 Axes>"
      ]
     },
     "metadata": {
      "needs_background": "light"
     },
     "output_type": "display_data"
    },
    {
     "data": {
      "image/png": "[encoded data removed]",
      "text/plain": [
       "<Figure size 1008x360 with 1 Axes>"
      ]
     },
     "metadata": {
      "needs_background": "light"
     },
     "output_type": "display_data"
    },
    {
     "data": {
      "image/png": "[encoded data removed]",
      "text/plain": [
       "<Figure size 1008x360 with 1 Axes>"
      ]
     },
     "metadata": {
      "needs_background": "light"
     },
     "output_type": "display_data"
    }
   ],
   "source": [
    "train['date'] = pd.to_datetime(train['date'], format=\"%d.%m.%Y\")\n",
    "train.groupby('date').agg({'item_cnt_day': 'sum'}).plot(figsize=(14,5), title='Target time series evolution', lw=1.0, color='green')\n",
    "train.groupby('date_block_num').agg({'item_cnt_day': 'sum'}).plot(figsize=(14,5), lw=3.0, color='blue')\n",
    "plt.show()\n",
    "\n",
    "fig, ax = plt.subplots(figsize=(14,5))\n",
    "ax = sns.kdeplot(df['item_cnt_month'].values, shade=True, color=\"red\", ax=ax)\n",
    "ax.set_xlabel('item_cnt_month')\n",
    "ax.set_ylabel('Density')\n",
    "ax.set_title('Target distribution')\n",
    "plt.show()"
   ]
  },
  {
   "cell_type": "markdown",
   "metadata": {},
   "source": [
    "Next we look at the daily performance of each shop:"
   ]
  },
  {
   "cell_type": "code",
   "execution_count": 37,
   "metadata": {
    "scrolled": false
   },
   "outputs": [
    {
     "data": {
      "image/png": "[encoded data removed]",
      "text/plain": [
       "<Figure size 1008x1440 with 10 Axes>"
      ]
     },
     "metadata": {
      "needs_background": "light"
     },
     "output_type": "display_data"
    }
   ],
   "source": [
    "temp = pd.DataFrame(train.groupby(['shop_id', 'date_block_num'])['item_cnt_day'].sum().reset_index())\n",
    "fig, axes = plt.subplots(nrows=5, ncols=2, sharex=True, sharey=True, figsize=(14,20))\n",
    "num_graph = 10\n",
    "id_per_graph = ceil(temp.shop_id.max() / num_graph)\n",
    "#fig.suptitle('Time series evolution of sales (per shop)')\n",
    "x = 0\n",
    "for i in range(5):\n",
    "    for j in range(2):\n",
    "        sns.pointplot(x='date_block_num', y='item_cnt_day', hue='shop_id', palette='nipy_spectral',\n",
    "                      data=temp[np.logical_and(x*id_per_graph <= temp['shop_id'],\n",
    "                                               temp['shop_id'] < (x+1)*id_per_graph)],\n",
    "                      ax=axes[i][j], grid=True, lw=1.0)\n",
    "        axes[i,j].legend(loc='upper right')\n",
    "        plt.setp(axes[i,j].get_legend().get_texts(), fontsize='9')\n",
    "        plt.setp(axes[i,j].get_legend().get_title(), fontsize='10')\n",
    "        x += 1\n",
    "\n",
    "sns.reset_orig()"
   ]
  },
  {
   "cell_type": "markdown",
   "metadata": {},
   "source": [
    "## 3.2. Multivariate heatmaps (numerical/categorical pairings)\n",
    "\n",
    "An interesting visualization approach would be to pair different categorical variables (ex. `item_category_id`, `shop_id`, `city_code`) together and check the *performance* of different pairs (total sales' performance with `item_cnt_month`).\n",
    "\n",
    "Several item categories are barely (or not even) sold in a number of shops."
   ]
  },
  {
   "cell_type": "code",
   "execution_count": 38,
   "metadata": {},
   "outputs": [
    {
     "data": {
      "image/png": "[encoded data removed]",
      "text/plain": [
       "<Figure size 1152x576 with 2 Axes>"
      ]
     },
     "metadata": {
      "needs_background": "light"
     },
     "output_type": "display_data"
    }
   ],
   "source": [
    "stores_hm = df.pivot_table(index='shop_id', columns='item_category_id_x', values='item_cnt_month', aggfunc='count', fill_value=0)\n",
    "fig, ax = plt.subplots(figsize=(16,8))\n",
    "sns.heatmap(stores_hm, cmap='nipy_spectral', ax=ax, cbar=True, cbar_kws={'label': 'item_cnt_month'});"
   ]
  },
  {
   "cell_type": "markdown",
   "metadata": {},
   "source": [
    "The same goes for cities:"
   ]
  },
  {
   "cell_type": "code",
   "execution_count": 39,
   "metadata": {},
   "outputs": [
    {
     "data": {
      "image/png": "[encoded data removed]",
      "text/plain": [
       "<Figure size 1152x576 with 2 Axes>"
      ]
     },
     "metadata": {
      "needs_background": "light"
     },
     "output_type": "display_data"
    }
   ],
   "source": [
    "stores_hm = df.pivot_table(index='city_code', columns='item_category_id_x', values='item_cnt_month', aggfunc='count', fill_value=0)\n",
    "fig, ax = plt.subplots(figsize=(16,8))\n",
    "sns.heatmap(stores_hm, cmap='nipy_spectral', ax=ax, cbar=True, cbar_kws={'label': 'item_cnt_month'});"
   ]
  },
  {
   "cell_type": "markdown",
   "metadata": {},
   "source": [
    "This additional plot reveals the number of shops per cities and their sales' performance."
   ]
  },
  {
   "cell_type": "code",
   "execution_count": 40,
   "metadata": {},
   "outputs": [
    {
     "data": {
      "image/png": "[encoded data removed]",
      "text/plain": [
       "<Figure size 1152x576 with 2 Axes>"
      ]
     },
     "metadata": {
      "needs_background": "light"
     },
     "output_type": "display_data"
    }
   ],
   "source": [
    "stores_hm = df.pivot_table(index='shop_id', columns='city_code', values='item_cnt_month', aggfunc='count', fill_value=0)\n",
    "fig, ax = plt.subplots(figsize=(16,8))\n",
    "sns.heatmap(stores_hm, cmap='nipy_spectral', ax=ax, cbar=True, cbar_kws={'label': 'item_cnt_month'});"
   ]
  },
  {
   "cell_type": "markdown",
   "metadata": {},
   "source": [
    "Categorical variables are clearly important as several pairs of shop - items perform better than others. Let's exploit this by using target/mean encodings."
   ]
  },
  {
   "cell_type": "markdown",
   "metadata": {},
   "source": [
    "# Part 4/6: Advanced Feature Engineering\n",
    "\n",
    "## 4.1. Mean encodings on categorical features\n",
    "\n",
    "Mean encodings look to map a high cardinality categorical feature into a 1D array (instead of high numbers of them had we used one-hot encoding) based on how often the target variable appears on average in the categorical feature. It is a convenient approach since it also has a clever way of imputing missing values among categorical variables."
   ]
  },
  {
   "cell_type": "code",
   "execution_count": null,
   "metadata": {},
   "outputs": [],
   "source": [
    "df1 = copy.copy(df)\n",
    "df1.reset_index(inplace=True)\n",
    "\n",
    "cv = KFold(n_splits=5, shuffle=False)\n",
    "new_features = []\n",
    "\n",
    "check = False\n",
    "for train_idx, valid_idx in cv.split(df1):\n",
    "    \n",
    "    # Train/validation split\n",
    "    X_train, X_valid = df1.iloc[train_idx,:], df1.iloc[valid_idx,:]\n",
    "    \n",
    "    # Mean encoding\n",
    "    for col in cat_features:\n",
    "        means = X_valid[col].map(X_train.groupby(col).item_cnt_month.mean())\n",
    "        col_new = col+'_target_enc'\n",
    "        X_valid[col_new] = means\n",
    "        \n",
    "        # Results\n",
    "        df1.loc[valid_idx, col_new] = X_valid\n",
    "        \n",
    "        # Store new columns\n",
    "        if check==False:\n",
    "            new_features.append(col_new)\n",
    "    \n",
    "    check = True\n",
    "\n",
    "print(new_features)"
   ]
  },
  {
   "cell_type": "code",
   "execution_count": null,
   "metadata": {},
   "outputs": [],
   "source": [
    "# Dealing with missing values\n",
    "new_features = ['shop_id_target_enc', 'item_id_target_enc', 'city_code_target_enc',\n",
    "                'item_category_id_x_target_enc', 'type_code_target_enc', 'subtype_code_target_enc']\n",
    "prior = np.mean(df1['item_cnt_month'].values)\n",
    "df1[new_features] = df1[new_features].fillna(prior)\n",
    "df1.head()"
   ]
  },
  {
   "cell_type": "code",
   "execution_count": null,
   "metadata": {},
   "outputs": [],
   "source": [
    "df1.drop(cat_features, axis=1, inplace=True)\n",
    "df1.drop('index', axis=1, inplace=True)\n",
    "cat_features = new_features"
   ]
  },
  {
   "cell_type": "code",
   "execution_count": null,
   "metadata": {},
   "outputs": [],
   "source": [
    "df1.columns.values"
   ]
  },
  {
   "cell_type": "markdown",
   "metadata": {},
   "source": [
    "## 4.2. Matrix factorization of TFIDF processed features\n",
    "\n",
    "We look to reduce the *dimensionality* of the TFIDF-processed features (from 50 dimensions to 10) and extract nonlinear relationships between the text features with **Non-Negative Matrix Factorization (NMF)**:"
   ]
  },
  {
   "cell_type": "code",
   "execution_count": null,
   "metadata": {},
   "outputs": [],
   "source": [
    "tfidf_features = ['item_name_tfidf_0', 'item_name_tfidf_1', 'item_name_tfidf_2',\n",
    "                  'item_name_tfidf_3', 'item_name_tfidf_4', 'item_name_tfidf_5',\n",
    "                  'item_name_tfidf_6', 'item_name_tfidf_7', 'item_name_tfidf_8',\n",
    "                  'item_name_tfidf_9', 'item_name_tfidf_10', 'item_name_tfidf_11',\n",
    "                  'item_name_tfidf_12', 'item_name_tfidf_13', 'item_name_tfidf_14',\n",
    "                  'item_name_tfidf_15', 'item_name_tfidf_16', 'item_name_tfidf_17',\n",
    "                  'item_name_tfidf_18', 'item_name_tfidf_19', 'item_name_tfidf_20',\n",
    "                  'item_name_tfidf_21', 'item_name_tfidf_22', 'item_name_tfidf_23',\n",
    "                  'item_name_tfidf_24', 'shop_name_tfidf_0', 'shop_name_tfidf_1',\n",
    "                  'shop_name_tfidf_2', 'shop_name_tfidf_3', 'shop_name_tfidf_4',\n",
    "                  'shop_name_tfidf_5', 'shop_name_tfidf_6', 'shop_name_tfidf_7',\n",
    "                  'shop_name_tfidf_8', 'shop_name_tfidf_9', 'shop_name_tfidf_10',\n",
    "                  'shop_name_tfidf_11', 'shop_name_tfidf_12', 'shop_name_tfidf_13',\n",
    "                  'shop_name_tfidf_14', 'shop_name_tfidf_15', 'shop_name_tfidf_16',\n",
    "                  'shop_name_tfidf_17', 'shop_name_tfidf_18', 'shop_name_tfidf_19',\n",
    "                  'shop_name_tfidf_20', 'shop_name_tfidf_21', 'shop_name_tfidf_22',\n",
    "                  'shop_name_tfidf_23', 'shop_name_tfidf_24']\n",
    "\n",
    "Xtrain = df1[df1['date_block_num']<34][tfidf_features]\n",
    "Xtest = df1[df1['date_block_num']==34][tfidf_features]\n",
    "print(Xtrain.shape, Xtest.shape)\n",
    "#X_all = pd.concat([Xtrain, Xtest], ignore_index=True)\n",
    "#X_all.shape"
   ]
  },
  {
   "cell_type": "code",
   "execution_count": null,
   "metadata": {},
   "outputs": [],
   "source": [
    "nmf = NMF(n_components=10, init=None, solver='cd', beta_loss='frobenius', tol=0.0001, max_iter=200)\n",
    "nmf.fit(df1[tfidf_features]);"
   ]
  },
  {
   "cell_type": "code",
   "execution_count": null,
   "metadata": {},
   "outputs": [],
   "source": [
    "Xtrain = nmf.transform(Xtrain)\n",
    "Xtest = nmf.transform(Xtest)"
   ]
  },
  {
   "cell_type": "code",
   "execution_count": null,
   "metadata": {},
   "outputs": [],
   "source": [
    "print(Xtrain.shape, Xtest.shape)"
   ]
  },
  {
   "cell_type": "code",
   "execution_count": null,
   "metadata": {},
   "outputs": [],
   "source": [
    "df1.drop(tfidf_features, axis=1, inplace=True)"
   ]
  },
  {
   "cell_type": "code",
   "execution_count": null,
   "metadata": {},
   "outputs": [],
   "source": [
    "tfidf_reduced_df = pd.concat([pd.DataFrame(Xtrain), pd.DataFrame(Xtest)], axis=0)\n",
    "tfidf_reduced_df.columns = ['tfidf_interaction_1', 'tfidf_interaction_2', 'tfidf_interaction_3',\n",
    "                            'tfidf_interaction_4', 'tfidf_interaction_5', 'tfidf_interaction_6',\n",
    "                            'tfidf_interaction_7', 'tfidf_interaction_8', 'tfidf_interaction_9',\n",
    "                            'tfidf_interaction_10']\n",
    "print(tfidf_reduced_df.shape)\n",
    "tfidf_reduced_df.head()"
   ]
  },
  {
   "cell_type": "code",
   "execution_count": null,
   "metadata": {},
   "outputs": [],
   "source": [
    "for col in tfidf_reduced_df.columns:\n",
    "    print(col)\n",
    "    test1 = tfidf_reduced_df[col].values\n",
    "    df1[col] = test1"
   ]
  },
  {
   "cell_type": "code",
   "execution_count": null,
   "metadata": {},
   "outputs": [],
   "source": [
    "df1.head()"
   ]
  },
  {
   "cell_type": "code",
   "execution_count": null,
   "metadata": {},
   "outputs": [],
   "source": [
    "df1.columns.values"
   ]
  },
  {
   "cell_type": "code",
   "execution_count": null,
   "metadata": {},
   "outputs": [],
   "source": [
    "df1.to_csv('data.csv')"
   ]
  },
  {
   "cell_type": "code",
   "execution_count": null,
   "metadata": {},
   "outputs": [],
   "source": [
    "df1 = pd.read_csv('data.csv', index_col=0)"
   ]
  },
  {
   "cell_type": "markdown",
   "metadata": {},
   "source": [
    "# Part 5/6: Model training\n",
    "\n",
    "We will implement the following models:\n",
    "\n",
    "- **Linear Regression**: preprocessing is required and we will use `StandardScaler` (mean zero with unit variance);\n",
    "- **XGBoost / LightGBM**: no preprocessing as decision trees are capable of handling features with different scales."
   ]
  },
  {
   "cell_type": "markdown",
   "metadata": {},
   "source": [
    "## 5.1. Validation scheme\n",
    "\n",
    "We choose **holdout** as our validation scheme: our training set runs from January 2013 to September 2015, while our validation set runs on October 2015. The test set runs on November 2015. This scheme was chosen to mimic the time series nature of our  machine learning problem: predicting for future time periods."
   ]
  },
  {
   "cell_type": "code",
   "execution_count": null,
   "metadata": {},
   "outputs": [],
   "source": [
    "all_data = copy.copy(df1)\n",
    "\n",
    "X_train = all_data[all_data['date_block_num']<33].drop(['item_cnt_month'], axis=1)\n",
    "Y_train = all_data[all_data['date_block_num']<33]['item_cnt_month']\n",
    "\n",
    "X_valid = all_data[all_data['date_block_num']==33].drop(['item_cnt_month'], axis=1)\n",
    "Y_valid = all_data[all_data['date_block_num']==33]['item_cnt_month']\n",
    "\n",
    "X_test =  all_data[all_data['date_block_num']==34].drop(['item_cnt_month'], axis=1)\n",
    "\n",
    "print(X_train.shape)\n",
    "print(Y_train.shape)\n",
    "print(X_valid.shape)\n",
    "print(Y_valid.shape)\n",
    "print(X_test.shape)"
   ]
  },
  {
   "cell_type": "code",
   "execution_count": null,
   "metadata": {},
   "outputs": [],
   "source": [
    "X_test.head()"
   ]
  },
  {
   "cell_type": "markdown",
   "metadata": {},
   "source": [
    "## 5.2. LightGBM Regressor\n",
    "\n",
    "The correct metric to be used is **root mean squared error**.\n",
    "\n",
    "Our first model is the regularized gradient boosting library LightGBM:"
   ]
  },
  {
   "cell_type": "code",
   "execution_count": null,
   "metadata": {},
   "outputs": [],
   "source": [
    "lgb_train = lgb.Dataset(X_train, Y_train)\n",
    "lgb_valid = lgb.Dataset(X_valid, Y_valid)\n",
    "\n",
    "params = {\n",
    "    'boosting_type': 'dart',\n",
    "    'metric': 'l2_root', # RMSE\n",
    "    'verbose': 1,\n",
    "    'seed': 0,\n",
    "    'max_depth': 8,\n",
    "    'learning_rate': 0.1,\n",
    "    'reg_lambda': 2.0,\n",
    "    'reg_alpha': 2.0,\n",
    "    'subsample': 0.7,\n",
    "    'num_leaves': 20,\n",
    "    'feature_fraction': 0.8,\n",
    "    'drop_rate': 0.2\n",
    "}\n",
    "\n",
    "model_lgbm = lgb.train(params, lgb_train, num_boost_round=1000, valid_sets=lgb_valid,\n",
    "                       early_stopping_rounds=200, categorical_feature=cat_features,\n",
    "                       verbose_eval=50)"
   ]
  },
  {
   "cell_type": "code",
   "execution_count": null,
   "metadata": {},
   "outputs": [],
   "source": [
    "print(np.sqrt(mean_squared_error(Y_valid, model_lgbm.predict(X_valid))))"
   ]
  },
  {
   "cell_type": "code",
   "execution_count": null,
   "metadata": {},
   "outputs": [],
   "source": [
    "lgb.plot_importance(model_lgbm, max_num_features=15, figsize=(6,6), title='Feature importance (LightGBM)')\n",
    "plt.show()"
   ]
  },
  {
   "cell_type": "code",
   "execution_count": null,
   "metadata": {},
   "outputs": [],
   "source": [
    "joblib.dump(model_lgbm, 'models/model1_lgbm.pkl');"
   ]
  },
  {
   "cell_type": "code",
   "execution_count": null,
   "metadata": {},
   "outputs": [],
   "source": [
    "model_lgbm = joblib.load('models/model1_lgbm.pkl')"
   ]
  },
  {
   "cell_type": "markdown",
   "metadata": {},
   "source": [
    "## 5.3. XGBoost Regressor\n",
    "\n",
    "Similar to LightGBM, we have the popular XGBoost library:"
   ]
  },
  {
   "cell_type": "code",
   "execution_count": null,
   "metadata": {
    "scrolled": true
   },
   "outputs": [],
   "source": [
    "model_xgb = xgb.XGBRegressor(max_depth=8, n_estimators=1000, min_child_weight=300,\n",
    "                             colsample_bytree=0.8, subsample=0.8, eta=0.2, seed=42,\n",
    "                             reg_alpha=2.0, reg_lambda=2.0)\n",
    "\n",
    "model_xgb.fit(X_train, Y_train, eval_metric='rmse', eval_set=[(X_valid, Y_valid)],\n",
    "              verbose=False, early_stopping_rounds=100)"
   ]
  },
  {
   "cell_type": "code",
   "execution_count": null,
   "metadata": {},
   "outputs": [],
   "source": [
    "print(np.sqrt(mean_squared_error(Y_valid, model_xgb.predict(X_valid))))"
   ]
  },
  {
   "cell_type": "code",
   "execution_count": null,
   "metadata": {},
   "outputs": [],
   "source": [
    "joblib.dump(model_xgb, 'models/model2_xgbm.pkl');"
   ]
  },
  {
   "cell_type": "code",
   "execution_count": null,
   "metadata": {},
   "outputs": [],
   "source": [
    "model_xgb = joblib.load('models/model2_xgbm.pkl') "
   ]
  },
  {
   "cell_type": "code",
   "execution_count": null,
   "metadata": {},
   "outputs": [],
   "source": [
    "print(model_xgb.best_iteration)"
   ]
  },
  {
   "cell_type": "code",
   "execution_count": null,
   "metadata": {},
   "outputs": [],
   "source": [
    "fig, ax = plt.subplots(figsize=(6,6))\n",
    "xgb.plot_importance(model_xgb, max_num_features=15, title='Feature importance (XGBoost)', ax=ax)\n",
    "plt.show()"
   ]
  },
  {
   "cell_type": "markdown",
   "metadata": {},
   "source": [
    "## 5.4. Linear regression\n",
    "\n",
    "Linear models are decent benchmarks which is why we implement a number of them. We implement *feature scaling* for these following models:"
   ]
  },
  {
   "cell_type": "code",
   "execution_count": null,
   "metadata": {},
   "outputs": [],
   "source": [
    "from sklearn.preprocessing import StandardScaler"
   ]
  },
  {
   "cell_type": "code",
   "execution_count": null,
   "metadata": {},
   "outputs": [],
   "source": [
    "scaler = StandardScaler().fit(X_train)\n",
    "X_train_std = scaler.transform(X_train)\n",
    "X_valid_std = scaler.transform(X_valid)"
   ]
  },
  {
   "cell_type": "code",
   "execution_count": null,
   "metadata": {},
   "outputs": [],
   "source": [
    "model_linreg = LinearRegression(fit_intercept=True)\n",
    "model_linreg.fit(X_train_std, Y_train)\n",
    "print(np.sqrt(mean_squared_error(Y_valid, model_linreg.predict(X_valid_std))))\n",
    "joblib.dump(model_linreg, 'models/model3_linreg.pkl');"
   ]
  },
  {
   "cell_type": "code",
   "execution_count": null,
   "metadata": {},
   "outputs": [],
   "source": [
    "model_ridge = Ridge(alpha=4.0, fit_intercept=True, max_iter=1000, solver='saga')\n",
    "model_ridge.fit(X_train_std, Y_train)\n",
    "print(np.sqrt(mean_squared_error(Y_valid, model_ridge.predict(X_valid_std))))\n",
    "joblib.dump(model_ridge, 'models/model4_ridge.pkl');"
   ]
  },
  {
   "cell_type": "code",
   "execution_count": null,
   "metadata": {},
   "outputs": [],
   "source": [
    "model_lasso = Lasso(alpha=10.0, fit_intercept=True, max_iter=1000)\n",
    "model_lasso.fit(X_train_std, Y_train)\n",
    "print(np.sqrt(mean_squared_error(Y_valid, model_lasso.predict(X_valid_std))))\n",
    "joblib.dump(model_lasso, 'models/model5_lasso.pkl');"
   ]
  },
  {
   "cell_type": "markdown",
   "metadata": {},
   "source": [
    "Linear models give decent enough results but there are clearly better models (ex. gradient boosting trees)."
   ]
  },
  {
   "cell_type": "markdown",
   "metadata": {},
   "source": [
    "# Part 6/6: Ensembling and test predictions"
   ]
  },
  {
   "cell_type": "markdown",
   "metadata": {},
   "source": [
    "## 6.1. Ensembling: LightGBM + Linear Regression\n",
    "\n",
    "**Ensembling metafeatures**\n",
    "\n",
    "We will implement the KFold scheme Time Series implemented in the previous assignment:\n",
    "\n",
    "*In time-series task we usually have a fixed period of time we are asked to predict. Like day, week, month or arbitrary period with duration of T.*\n",
    "\n",
    "1. *Split the train data into chunks of duration T. Select first M chunks.*\n",
    "2. *Fit N diverse models on those M chunks and predict for the chunk M+1. Then fit those models on first M+1 chunks and predict for chunk M+2 and so on, until you hit the end. After that use all train data to fit models and get predictions for test. Now we will have meta-features for the chunks starting from number M+1 as well as meta-features for the test.*\n",
    "3. *Now we can use meta-features from first K chunks [M+1,M+2,..,M+K] to fit level 2 models and validate them on chunk M+K+1. Essentially we are back to step 1. with the lesser amount of chunks and meta-features instead of features.*\n",
    "\n",
    "We start with our **1st generation features**:"
   ]
  },
  {
   "cell_type": "code",
   "execution_count": null,
   "metadata": {},
   "outputs": [],
   "source": [
    "del Xtrain, Xtest, tfidf_reduced_df\n",
    "gc.collect()"
   ]
  },
  {
   "cell_type": "code",
   "execution_count": null,
   "metadata": {},
   "outputs": [],
   "source": [
    "model_lgbm = joblib.load('models/model1_lgbm.pkl')\n",
    "model_linreg = joblib.load('models/model3_linreg.pkl')"
   ]
  },
  {
   "cell_type": "code",
   "execution_count": null,
   "metadata": {},
   "outputs": [],
   "source": [
    "Y_valid_lgbm = model_lgbm.predict(X_valid)\n",
    "Y_valid_lreg = model_linreg.predict(X_valid_std)\n",
    "X_valid_level2 = np.c_[Y_valid_lgbm, Y_valid_lreg]\n",
    "X_valid_level2[:10,:]"
   ]
  },
  {
   "cell_type": "markdown",
   "metadata": {},
   "source": [
    "Then our **2nd generation features**:"
   ]
  },
  {
   "cell_type": "code",
   "execution_count": null,
   "metadata": {},
   "outputs": [],
   "source": [
    "X_train = all_data[all_data['date_block_num']<=32].drop(['item_cnt_month'], axis=1)\n",
    "Y_train = all_data[all_data['date_block_num']<=32]['item_cnt_month']\n",
    "X_valid = all_data[all_data['date_block_num']==33].drop(['item_cnt_month'], axis=1)\n",
    "Y_valid = all_data[all_data['date_block_num']==33]['item_cnt_month']"
   ]
  },
  {
   "cell_type": "code",
   "execution_count": null,
   "metadata": {},
   "outputs": [],
   "source": [
    "dates = all_data['date_block_num']\n",
    "last_block = dates.max()\n",
    "print('Test `date_block_num` is %d' % last_block)\n",
    "dates_train = dates[dates < last_block]\n",
    "dates_test  = dates[dates == last_block]"
   ]
  },
  {
   "cell_type": "code",
   "execution_count": null,
   "metadata": {},
   "outputs": [],
   "source": [
    "periods = np.arange(26, 33, 1)\n",
    "periods"
   ]
  },
  {
   "cell_type": "code",
   "execution_count": null,
   "metadata": {},
   "outputs": [],
   "source": [
    "dates_train_level2 = dates_train[dates_train.isin(periods)]\n",
    "Y_train_level2 = Y_train[dates_train.isin(periods)]\n",
    "X_train_level2 = np.zeros([Y_train_level2.shape[0], 2])"
   ]
  },
  {
   "cell_type": "code",
   "execution_count": null,
   "metadata": {},
   "outputs": [],
   "source": [
    "Y_train[dates_train.isin(periods)].shape == dates_train_level2.shape"
   ]
  },
  {
   "cell_type": "code",
   "execution_count": null,
   "metadata": {},
   "outputs": [],
   "source": [
    "# Now fill `X_train_level2` with metafeatures\n",
    "params = {\n",
    "    'boosting_type': 'dart',\n",
    "    'metric': 'l2_root', # RMSE\n",
    "    'verbose': 1,\n",
    "    'seed': 0,\n",
    "    'max_depth': 8,\n",
    "    'learning_rate': 0.1,\n",
    "    'reg_lambda': 2.0,\n",
    "    'reg_alpha': 2.0,\n",
    "    'subsample': 0.7,\n",
    "    'num_leaves': 20,\n",
    "    'feature_fraction': 0.8,\n",
    "    'drop_rate': 0.2\n",
    "}\n",
    "\n",
    "for cur_block_num in periods:\n",
    "    \n",
    "    print('cur_block_num:', cur_block_num)\n",
    "    \n",
    "    # 1. Split `X_train` into parts\n",
    "    x = all_data[all_data['date_block_num']<cur_block_num].drop(['item_cnt_month'], axis=1)\n",
    "    y = all_data[all_data['date_block_num']<cur_block_num]['item_cnt_month'].values\n",
    "    x_test =  all_data[all_data['date_block_num']==cur_block_num].drop(['item_cnt_month'], axis=1)\n",
    "    y_test =  all_data[all_data['date_block_num']==cur_block_num]['item_cnt_month'].values\n",
    "    \n",
    "    # 2. Fit linear regression\n",
    "    print('Linear regression')\n",
    "    lr = LinearRegression(fit_intercept=True, normalize=True)\n",
    "    scaler = StandardScaler().fit(x)\n",
    "    x_std = scaler.transform(x)\n",
    "    x_test_std = scaler.transform(x_test)\n",
    "    lr.fit(x_std, y)\n",
    "    Y_test_1 = lr.predict(x_test_std)\n",
    "    \n",
    "    # 3. Fit LightGBM and put predictions\n",
    "    print('LightGBM')\n",
    "    n_trees = 500\n",
    "    lgb_train = lgb.Dataset(x, y)\n",
    "    lgb_valid = lgb.Dataset(x_test, y_test)\n",
    "    model_lgbm = lgb.train(params, lgb_train, num_boost_round=n_trees,\n",
    "                           valid_sets=lgb_valid, early_stopping_rounds=50,\n",
    "                           verbose_eval=50)\n",
    "    Y_test_2 = model_lgbm.predict(x_test)\n",
    "    \n",
    "    # 4. Store predictions from 2. and 3. in the right place of `X_train_level2`\n",
    "    X_train_level2[dates_train_level2 == cur_block_num] = np.c_[Y_test_1, Y_test_2]\n",
    "    clear_output()\n",
    "\n",
    "print(X_train_level2.mean(axis=0))"
   ]
  },
  {
   "cell_type": "code",
   "execution_count": null,
   "metadata": {},
   "outputs": [],
   "source": [
    "plt.figure(figsize=(7,5))\n",
    "plt.scatter(X_train_level2[:,0], X_train_level2[:,1], marker='o', alpha=0.15)\n",
    "plt.xlabel('Linear regression test set predictions')\n",
    "plt.ylabel('LightGBM test set predictions')\n",
    "plt.show()"
   ]
  },
  {
   "cell_type": "markdown",
   "metadata": {},
   "source": [
    "Finally, we have **stacking**:"
   ]
  },
  {
   "cell_type": "code",
   "execution_count": null,
   "metadata": {},
   "outputs": [],
   "source": [
    "y_train_level2 = Y_train[dates_train.isin(periods)]\n",
    "lr_stack = LinearRegression().fit(X_train_level2, y_train_level2)"
   ]
  },
  {
   "cell_type": "code",
   "execution_count": null,
   "metadata": {},
   "outputs": [],
   "source": [
    "train_preds = lr_stack.predict(X_train_level2)\n",
    "rmse_train = np.sqrt(mean_squared_error(y_train_level2, train_preds))\n",
    "\n",
    "valid_preds = lr_stack.predict(X_valid_level2)\n",
    "rmse_valid = np.sqrt(mean_squared_error(Y_valid, valid_preds))\n",
    "\n",
    "print('RMSE Train: %f' % rmse_train)\n",
    "print('RMSE Test : %f' % rmse_valid)"
   ]
  },
  {
   "cell_type": "markdown",
   "metadata": {},
   "source": [
    "## 6.2. Leaderboard test predictions\n",
    "\n",
    "We submit all our test predictions to the Kaggle leaderboard (https://www.kaggle.com/c/competitive-data-science-predict-future-sales):"
   ]
  },
  {
   "cell_type": "code",
   "execution_count": null,
   "metadata": {},
   "outputs": [],
   "source": [
    "Y_test_lgbm = model_lgbm.predict(X_test).clip(0, 20)\n",
    "Y_test_xgbm = model_xgb.predict(X_test).clip(0, 20)\n",
    "Y_test_lreg = model_linreg.predict(X_test).clip(0, 20)\n",
    "Y_test_ridge = model_ridge.predict(X_test).clip(0, 20)\n",
    "Y_test_lasso = model_lasso.predict(X_test).clip(0, 20)"
   ]
  },
  {
   "cell_type": "code",
   "execution_count": null,
   "metadata": {},
   "outputs": [],
   "source": [
    "models = [Y_test_lgbm, Y_test_xgbm, Y_test_lreg, Y_test_ridge,\n",
    "          Y_test_lasso]\n",
    "\n",
    "names = ['LGBM', 'XGBM', 'LINREG', 'RIDGE', 'LASSO']\n",
    "\n",
    "for model, name in zip(models, names):\n",
    "    temp = pd.DataFrame({'ID': test.index, 'item_cnt_month': model})\n",
    "    temp.to_csv('submissions/submission_'+str(name)+'.csv', index=False)"
   ]
  },
  {
   "cell_type": "markdown",
   "metadata": {},
   "source": [
    "My official submission: **XGBoost** (from section 5.3) on the CSV file `submission1.csv`"
   ]
  },
  {
   "cell_type": "code",
   "execution_count": null,
   "metadata": {},
   "outputs": [],
   "source": [
    "temp = pd.DataFrame({'ID': test.index, 'item_cnt_month': Y_test_xgbm})\n",
    "temp.to_csv('submission1.csv', index=False)"
   ]
  },
  {
   "cell_type": "markdown",
   "metadata": {},
   "source": [
    "Public leaderboard score (RMSE): **0.96204**"
   ]
  },
  {
   "cell_type": "code",
   "execution_count": null,
   "metadata": {},
   "outputs": [],
   "source": []
  },
  {
   "cell_type": "code",
   "execution_count": null,
   "metadata": {},
   "outputs": [],
   "source": []
  },
  {
   "cell_type": "markdown",
   "metadata": {},
   "source": []
  }
 ],
 "metadata": {
  "kernelspec": {
   "display_name": "Python 2",
   "language": "python",
   "name": "python2"
  },
  "language_info": {
   "codemirror_mode": {
    "name": "ipython",
    "version": 2
   },
   "file_extension": ".py",
   "mimetype": "text/x-python",
   "name": "python",
   "nbconvert_exporter": "python",
   "pygments_lexer": "ipython2",
   "version": "2.7.17"
  }
 },
 "nbformat": 4,
 "nbformat_minor": 2
}
